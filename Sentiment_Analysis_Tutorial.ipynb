{
 "cells": [
  {
   "cell_type": "markdown",
   "metadata": {},
   "source": [
    "# Sentiment Analysis\n",
    "## On my honor, as a student, I have neither given nor received unauthorized aid on this academic work.\n",
    "\n",
    "## Wyatt Prall"
   ]
  },
  {
   "cell_type": "code",
   "execution_count": 1,
   "metadata": {
    "collapsed": true
   },
   "outputs": [],
   "source": [
    "import nltk\n",
    "# stopwords, FreqDist, word_tokenize\n",
    "from nltk.corpus import stopwords\n",
    "from nltk import FreqDist, word_tokenize\n",
    "from nltk.stem.porter import PorterStemmer\n",
    "from nltk.stem import WordNetLemmatizer\n",
    "from nltk.corpus import stopwords\n",
    "from wordcloud import WordCloud, STOPWORDS\n",
    "from pattern.en import sentiment\n",
    "import numpy as np\n",
    "from os import path\n",
    "from PIL import Image\n",
    "from textblob import TextBlob\n",
    "from collections import Counter\n",
    "from vaderSentiment.vaderSentiment import SentimentIntensityAnalyzer\n",
    "analyzer = SentimentIntensityAnalyzer()\n",
    "#regular expression\n",
    "import re\n",
    "#csv\n",
    "import csv\n",
    "# Excel-like format\n",
    "import pandas as pd\n",
    "#data visualization\n",
    "import matplotlib.pyplot as plt\n",
    "% matplotlib inline"
   ]
  },
  {
   "cell_type": "markdown",
   "metadata": {},
   "source": [
    "# The Basics of Sentiment Analysis"
   ]
  },
  {
   "cell_type": "markdown",
   "metadata": {},
   "source": [
    "## Basics What is Sentiment Analysis?\n",
    "### Sentiment analysis will take the words in a sentence and apply a score to them to view if they are positive or negative sentence."
   ]
  },
  {
   "cell_type": "markdown",
   "metadata": {},
   "source": [
    "### To begin let us start with a small sample size below is six sentences ."
   ]
  },
  {
   "cell_type": "code",
   "execution_count": 2,
   "metadata": {
    "collapsed": true
   },
   "outputs": [],
   "source": [
    "movie = [\"I had a terrible time at the movies.\",\n",
    "           \"This was the best popcorn I have ever tasted.\",\n",
    "           \"The view was amazing but the popcorn was cold and had too much butter.\",\n",
    "           \"The sound was poor and the lighting was very bad.\",\n",
    "           \"I love this place, everytime I come here I sit in the same chair and it is always amazing\",\n",
    "           \"The food was good but the waiter was very rude.\"]\n",
    "# The reviews consist of some posotive reviews some negative reviews and some that are neutral"
   ]
  },
  {
   "cell_type": "markdown",
   "metadata": {},
   "source": [
    "## For a human it is easy to categorize these sentences but what if there are more than six when will it become too much of a hassle? That is the point when sentiment analysis will be helpful."
   ]
  },
  {
   "cell_type": "markdown",
   "metadata": {},
   "source": [
    "### To perform sentiment analysis we require a Lexicon or a list of positive and negative words"
   ]
  },
  {
   "cell_type": "code",
   "execution_count": 3,
   "metadata": {
    "collapsed": true
   },
   "outputs": [],
   "source": [
    "Positive_words = ['best','amazing','love','good']\n",
    "Negative_words = ['terrible','cold','undercooked','poor','bad','rude']\n",
    "# This will be the lexicon for the simple analysis"
   ]
  },
  {
   "cell_type": "markdown",
   "metadata": {},
   "source": [
    "## A lexicon can be as long or as short as you desire. With this trick any word can be analyzed and broken into categories. Now let us do some cleaning before we perform the sentiment analysis."
   ]
  },
  {
   "cell_type": "code",
   "execution_count": 4,
   "metadata": {},
   "outputs": [
    {
     "data": {
      "text/plain": [
       "[['i', 'had', 'a', 'terrible', 'time', 'at', 'the', 'movies'],\n",
       " ['this', 'was', 'the', 'best', 'popcorn', 'i', 'have', 'ever', 'tasted'],\n",
       " ['the',\n",
       "  'view',\n",
       "  'was',\n",
       "  'amazing',\n",
       "  'but',\n",
       "  'the',\n",
       "  'popcorn',\n",
       "  'was',\n",
       "  'cold',\n",
       "  'and',\n",
       "  'had',\n",
       "  'too',\n",
       "  'much',\n",
       "  'butter'],\n",
       " ['the',\n",
       "  'sound',\n",
       "  'was',\n",
       "  'poor',\n",
       "  'and',\n",
       "  'the',\n",
       "  'lighting',\n",
       "  'was',\n",
       "  'very',\n",
       "  'bad'],\n",
       " ['i',\n",
       "  'love',\n",
       "  'this',\n",
       "  'place',\n",
       "  'everytime',\n",
       "  'i',\n",
       "  'come',\n",
       "  'here',\n",
       "  'i',\n",
       "  'sit',\n",
       "  'in',\n",
       "  'the',\n",
       "  'same',\n",
       "  'chair',\n",
       "  'and',\n",
       "  'it',\n",
       "  'is',\n",
       "  'always',\n",
       "  'amazing'],\n",
       " ['the', 'food', 'was', 'good', 'but', 'the', 'waiter', 'was', 'very', 'rude']]"
      ]
     },
     "execution_count": 4,
     "metadata": {},
     "output_type": "execute_result"
    }
   ],
   "source": [
    "documents = [re.sub(\"[^a-zA-Z]+\", \" \", document) for document in movie]\n",
    "texts = [[word for word in document.lower().split() ] for document in documents]\n",
    "texts\n",
    "# for the documents we are using regular expression to remove everything that is not a letter\n",
    "# Next for texts we are breaking up the sentences into words."
   ]
  },
  {
   "cell_type": "code",
   "execution_count": 5,
   "metadata": {},
   "outputs": [
    {
     "name": "stdout",
     "output_type": "stream",
     "text": [
      "0 1\n",
      "1 0\n",
      "1 1\n",
      "0 2\n",
      "2 0\n",
      "1 1\n"
     ]
    }
   ],
   "source": [
    "for sentence in texts:  \n",
    "    positive = 0\n",
    "    negative = 0\n",
    "    for word in sentence:\n",
    "        if word in Positive_words:\n",
    "            positive += 1\n",
    "        elif word in Negative_words:\n",
    "            negative += 1\n",
    "    print positive, negative\n",
    "#This will read through all of the sentences and categorize the words into either positive or negative "
   ]
  },
  {
   "cell_type": "markdown",
   "metadata": {},
   "source": [
    "## With this for loop the six sentences are being assigned by how many positive and negative words there are. Such as review one has one negative word and review three has one positive and one negative word."
   ]
  },
  {
   "cell_type": "code",
   "execution_count": 6,
   "metadata": {},
   "outputs": [
    {
     "name": "stdout",
     "output_type": "stream",
     "text": [
      "0 1 -1 Negative\n",
      "1 0 1 Positive\n",
      "1 1 0 Neutral\n",
      "0 2 -2 Negative\n",
      "2 0 2 Positive\n",
      "1 1 0 Neutral\n"
     ]
    }
   ],
   "source": [
    "for sentence in texts: \n",
    "    positive = 0\n",
    "    negative = 0\n",
    "    for word in sentence:\n",
    "        if word in Positive_words:\n",
    "            positive += 1\n",
    "        elif word in Negative_words:\n",
    "            negative += 1\n",
    "    print positive, negative, positive-negative, \"Positive\" if positive-negative > 0 else \"Neutral\" if positive-negative == 0 else \"Negative\"\n",
    "    # This will take the sentence and assign a positive or a negative or neutral rating to the sentence"
   ]
  },
  {
   "cell_type": "code",
   "execution_count": 7,
   "metadata": {
    "collapsed": true
   },
   "outputs": [],
   "source": [
    "#positive_words = open(\".txt\", \"rb\").read().splitlines()\n",
    "#negative_words = open(\".txt\", \"rb\").read().splitlines()\n",
    "## With this code you can use any text file that thas words in it to be your lexicon and it is easily added to or removed"
   ]
  },
  {
   "cell_type": "markdown",
   "metadata": {},
   "source": [
    "## If time is not a factor these lexicons can be saved and used at a later data. A benefit with creating your own lexicon is that it is easily customizable, and you can know exactly how the words are being analyzed. However, creating a personal lexicon will take time. If you do not have the time or the knowledge to create a lexicon there are packages that have pre-built lexicons that will help speed along the process."
   ]
  },
  {
   "cell_type": "markdown",
   "metadata": {},
   "source": [
    "# Packages "
   ]
  },
  {
   "cell_type": "code",
   "execution_count": 8,
   "metadata": {},
   "outputs": [
    {
     "name": "stdout",
     "output_type": "stream",
     "text": [
      "['Lousy Italian food with extremely poor service.\\', \"Don\\'t bother- better places to go.']\n"
     ]
    }
   ],
   "source": [
    "#Reading the file into a list format without the extra bracket\n",
    "review = [] # housing the reviews of the csv file into review\n",
    "openfile = open('data\\sample_restaurant_reviews.csv', 'rb')\n",
    "r = csv.reader(openfile)\n",
    "for i in r:\n",
    "    review.append(i[0])    \n",
    "openfile.close()\n",
    "\n",
    "print review[:1]\n",
    "# Showing only the first review to ensure that it is in correctly"
   ]
  },
  {
   "cell_type": "code",
   "execution_count": 9,
   "metadata": {},
   "outputs": [
    {
     "data": {
      "text/plain": [
       "37"
      ]
     },
     "execution_count": 9,
     "metadata": {},
     "output_type": "execute_result"
    }
   ],
   "source": [
    "len(review)"
   ]
  },
  {
   "cell_type": "markdown",
   "metadata": {},
   "source": [
    "## The sample_restaurant_reviews contains 37 reviews of varying length to show how the analysis is performed with the different packages."
   ]
  },
  {
   "cell_type": "markdown",
   "metadata": {},
   "source": [
    "# Bing Liu\n",
    "## Bing Liu is a lexicon that has a list of positive and negative words."
   ]
  },
  {
   "cell_type": "code",
   "execution_count": 10,
   "metadata": {},
   "outputs": [
    {
     "name": "stdout",
     "output_type": "stream",
     "text": [
      "1 3 -2 Negative\n",
      "11 13 -2 Negative\n",
      "10 12 -2 Negative\n",
      "6 6 0 Neutral\n",
      "8 10 -2 Negative\n",
      "5 7 -2 Negative\n",
      "0 3 -3 Negative\n",
      "11 17 -6 Negative\n",
      "9 7 2 Positive\n",
      "12 4 8 Positive\n",
      "3 0 3 Positive\n",
      "10 3 7 Positive\n",
      "1 0 1 Positive\n",
      "25 5 20 Positive\n",
      "13 0 13 Positive\n",
      "14 0 14 Positive\n",
      "9 1 8 Positive\n",
      "19 7 12 Positive\n",
      "2 0 2 Positive\n",
      "1 0 1 Positive\n",
      "36 4 32 Positive\n",
      "12 3 9 Positive\n",
      "12 1 11 Positive\n",
      "7 1 6 Positive\n",
      "7 0 7 Positive\n",
      "5 1 4 Positive\n",
      "8 2 6 Positive\n",
      "6 2 4 Positive\n",
      "5 0 5 Positive\n",
      "9 2 7 Positive\n",
      "22 6 16 Positive\n",
      "4 0 4 Positive\n",
      "4 0 4 Positive\n",
      "4 2 2 Positive\n",
      "5 0 5 Positive\n",
      "3 2 1 Positive\n",
      "2 1 1 Positive\n"
     ]
    }
   ],
   "source": [
    "documents = [re.sub(\"[^a-zA-Z]+\", \" \", document) for document in review]\n",
    "# tokenize\n",
    "texts = [[word for word in document.lower().split() ] for document in documents]\n",
    "\n",
    "#Bing-Liu lexicon (positive word list & negative word list)\n",
    "positive_words = open(\"data/positive-words.txt\", \"rb\").read().splitlines()\n",
    "negative_words = open(\"data/negative-words.txt\", \"rb\").read().splitlines()\n",
    "\n",
    "for sentence in texts:\n",
    "    positiveb = 0\n",
    "    negativeb = 0\n",
    "    for word in sentence:\n",
    "        if word in positive_words:\n",
    "            positiveb += 1\n",
    "        elif word in negative_words:\n",
    "            negativeb += 1\n",
    "    print positiveb, negativeb,positiveb-negativeb, \"Positive\" if positiveb-negativeb > 0 else \"Neutral\" if positiveb-negativeb == 0 else \"Negative\"\n",
    "# classifying the setences into the theree categories positive negative and neutral"
   ]
  },
  {
   "cell_type": "markdown",
   "metadata": {},
   "source": [
    "## As you can see with Bing Liu is a lexicon it consists of two txt files one that contains positive words and negative words. These files can easily be changed to add or remove words for customization. There are also other lexicons that can be downloaded or perhaps you wish to use your own as was shown before in the previous section of the tutorial. "
   ]
  },
  {
   "cell_type": "code",
   "execution_count": 11,
   "metadata": {
    "collapsed": true
   },
   "outputs": [],
   "source": [
    "# Putting the reviews into positive negative or neutral category\n",
    "positive_reviewb = []\n",
    "negative_reviewb = []\n",
    "neutral_reviewb = []\n",
    "\n",
    "for sentence in texts:\n",
    "    positive = 0\n",
    "    negative = 0\n",
    "    for word in sentence:\n",
    "        if word in positive_words:\n",
    "            positive += 1\n",
    "        elif word in negative_words:\n",
    "            negative += 1\n",
    "    if positive-negative > 0:\n",
    "        positive_reviewb.append(sentence)\n",
    "    elif positive-negative == 0:\n",
    "        neutral_reviewb.append(sentence)\n",
    "    else:\n",
    "        negative_reviewb.append(sentence)\n",
    "# This will be used to categorize each of the reviews into either positive negative or neutral"
   ]
  },
  {
   "cell_type": "markdown",
   "metadata": {},
   "source": [
    "### With this code above it is easy store the reviews into positive negative or neutral lists."
   ]
  },
  {
   "cell_type": "code",
   "execution_count": 12,
   "metadata": {
    "collapsed": true
   },
   "outputs": [],
   "source": [
    "p = 'Positive'\n",
    "N= 'Negative' \n",
    "n= 'Neutral'\n",
    "# These will be used for labeling throughout the tutorial for clarification"
   ]
  },
  {
   "cell_type": "code",
   "execution_count": 13,
   "metadata": {},
   "outputs": [
    {
     "name": "stdout",
     "output_type": "stream",
     "text": [
      "29 Positive\n",
      "7 Negative\n",
      "1 Neutral\n"
     ]
    }
   ],
   "source": [
    "print len(positive_reviewb) , p\n",
    "print len(negative_reviewb), N\n",
    "print len(neutral_reviewb) ,n\n",
    "#Showing the number of positive negative or neutral reviews for Bing Liu"
   ]
  },
  {
   "cell_type": "markdown",
   "metadata": {},
   "source": [
    "### Since there is only one neutral review let us view it."
   ]
  },
  {
   "cell_type": "code",
   "execution_count": 14,
   "metadata": {},
   "outputs": [
    {
     "data": {
      "text/plain": [
       "[['i',\n",
       "  'don',\n",
       "  't',\n",
       "  'get',\n",
       "  'it',\n",
       "  'i',\n",
       "  'just',\n",
       "  'don',\n",
       "  't',\n",
       "  'get',\n",
       "  'it',\n",
       "  'xa',\n",
       "  'my',\n",
       "  'exasperation',\n",
       "  'with',\n",
       "  'the',\n",
       "  'restaurant',\n",
       "  'compounds',\n",
       "  'by',\n",
       "  'the',\n",
       "  'minute',\n",
       "  'xa',\n",
       "  'so',\n",
       "  'this',\n",
       "  'was',\n",
       "  'my',\n",
       "  'third',\n",
       "  'and',\n",
       "  'final',\n",
       "  'visit',\n",
       "  'and',\n",
       "  'i',\n",
       "  'will',\n",
       "  'never',\n",
       "  'go',\n",
       "  'back',\n",
       "  'xa',\n",
       "  'the',\n",
       "  'experience',\n",
       "  'i',\n",
       "  'recently',\n",
       "  'had',\n",
       "  'is',\n",
       "  'exactly',\n",
       "  'the',\n",
       "  'same',\n",
       "  'as',\n",
       "  'my',\n",
       "  'three',\n",
       "  'previous',\n",
       "  'ones',\n",
       "  'xa',\n",
       "  'the',\n",
       "  'service',\n",
       "  'was',\n",
       "  'arrogant',\n",
       "  'and',\n",
       "  'slow',\n",
       "  'xa',\n",
       "  'the',\n",
       "  'food',\n",
       "  'was',\n",
       "  'mediocre',\n",
       "  'at',\n",
       "  'best',\n",
       "  'salad',\n",
       "  'underdressed',\n",
       "  'vegetables',\n",
       "  'that',\n",
       "  'were',\n",
       "  'in',\n",
       "  'the',\n",
       "  'field',\n",
       "  'a',\n",
       "  'day',\n",
       "  'too',\n",
       "  'long',\n",
       "  'pasta',\n",
       "  'rigtoni',\n",
       "  'with',\n",
       "  'tomato',\n",
       "  'sauce',\n",
       "  'and',\n",
       "  'ricotta',\n",
       "  'good',\n",
       "  'not',\n",
       "  'great',\n",
       "  'flat',\n",
       "  'iron',\n",
       "  'steak',\n",
       "  'flavorless',\n",
       "  'u',\n",
       "  'i',\n",
       "  'must',\n",
       "  'admit',\n",
       "  'the',\n",
       "  'second',\n",
       "  'time',\n",
       "  'i',\n",
       "  'was',\n",
       "  'there',\n",
       "  'i',\n",
       "  'had',\n",
       "  'the',\n",
       "  'taglitelle',\n",
       "  'with',\n",
       "  'duck',\n",
       "  'ragu',\n",
       "  'that',\n",
       "  'was',\n",
       "  'magnificient',\n",
       "  'but',\n",
       "  'that',\n",
       "  'was',\n",
       "  'the',\n",
       "  'exception',\n",
       "  'when',\n",
       "  'it',\n",
       "  'should',\n",
       "  'be',\n",
       "  'the',\n",
       "  'rule',\n",
       "  'at',\n",
       "  'such',\n",
       "  'a',\n",
       "  'marqee',\n",
       "  'restaurant',\n",
       "  'xa',\n",
       "  'i',\n",
       "  'mentioned',\n",
       "  'this',\n",
       "  'was',\n",
       "  'my',\n",
       "  'third',\n",
       "  'time',\n",
       "  'there',\n",
       "  'a',\n",
       "  'colleague',\n",
       "  'of',\n",
       "  'mine',\n",
       "  'loves',\n",
       "  'this',\n",
       "  'place',\n",
       "  'so',\n",
       "  'when',\n",
       "  'invited',\n",
       "  'i',\n",
       "  'go',\n",
       "  'xa',\n",
       "  'i',\n",
       "  'm',\n",
       "  'not',\n",
       "  'sure',\n",
       "  'if',\n",
       "  'he',\n",
       "  'or',\n",
       "  'the',\n",
       "  'others',\n",
       "  'who',\n",
       "  'rate',\n",
       "  'felidia',\n",
       "  'so',\n",
       "  'highly',\n",
       "  'are',\n",
       "  'eating',\n",
       "  'the',\n",
       "  'same',\n",
       "  'food',\n",
       "  'i',\n",
       "  'am',\n",
       "  'xa',\n",
       "  'the',\n",
       "  'next',\n",
       "  'time',\n",
       "  'we',\n",
       "  'have',\n",
       "  'an',\n",
       "  'outing',\n",
       "  'there',\n",
       "  'i',\n",
       "  'will',\n",
       "  'decline',\n",
       "  'i',\n",
       "  'm',\n",
       "  'sorry',\n",
       "  'lidia',\n",
       "  'i',\n",
       "  'loved',\n",
       "  'watching',\n",
       "  'your',\n",
       "  'cooking',\n",
       "  'show',\n",
       "  'as',\n",
       "  'a',\n",
       "  'kid',\n",
       "  'and',\n",
       "  'i',\n",
       "  'wanted',\n",
       "  'to',\n",
       "  'love',\n",
       "  'your',\n",
       "  'restaurant',\n",
       "  'but',\n",
       "  'i',\n",
       "  'just',\n",
       "  'can',\n",
       "  't']]"
      ]
     },
     "execution_count": 14,
     "metadata": {},
     "output_type": "execute_result"
    }
   ],
   "source": [
    "neutral_reviewb\n",
    "# displaying the neutral review"
   ]
  },
  {
   "cell_type": "markdown",
   "metadata": {},
   "source": [
    "### Bing Liu just counts the positive and negative words and will give a total count of these words. Since it is counting at the positive and negative words it sometimes will classify as neutral even though it is positive or negative."
   ]
  },
  {
   "cell_type": "markdown",
   "metadata": {},
   "source": [
    "# Pattern\n",
    "## Pattern will take the sentences in the review and give them two scores sentiment (Positive - Negative) and Subjective (Objective - Subjective)."
   ]
  },
  {
   "cell_type": "code",
   "execution_count": 15,
   "metadata": {},
   "outputs": [
    {
     "name": "stdout",
     "output_type": "stream",
     "text": [
      "Lousy Italian food with extremely poor service.', \"Don't bother- better places to go.\n",
      "What a major disappointment.', \"Lydia is my Wife's favorite TV food personality so we were greatly looking forward to our meal here. This restaurant is so different from the personality that you see on TV it is difficult to comprehend. While the TV Lydia is casual, friendly, homey and even a bit rustic, this restaurant is snooty, anal and pompous.\", u'The wait staff is from some parallel Nazi universe. They all looked like frightened animals scurrying about. I have never been so ignored in a restaurant. When the waiter initially asked us if we \"wanted anything from the bar\" he spoke directly to my wife, then myself, then walked away, completely ignoring my son. \\xa0We were sitting in the central dining room, where there were, at most, 10 tables and all of the staff needed to pass thru to get from the kitchen to all the other spaces. We had to flag down a different waiter each time we needed or wanted something.', 'Unfortunately the food was not able to save the pathetic service. My wife ordered the pasta with mushrooms and truffles. The pasta was far from al-dente to the point of being mushy and the mushrooms overwhelmed the truffle. My son had the chicken mozzarella. It looked like a deconstructed chicken parm and consisted of three bite sized medallions of chicken with a small slice of mozzarella on top of each. His main dish looked like a nice sized appetizer. His actual appetizer was the only decent dish of the meal, but then how hard is it to slice some prosciutto? My octopus appetizer was underwhelming. At lease the veal in my main course of vitello tonnato was cooked excellently. Unfortunately the dish was overwhelmed by shavings of hard, raw artichoke.', 'The waiter screwed up our desert order and forgot my limoncello order. Which was all for the better because we could leave quicker.\n"
     ]
    }
   ],
   "source": [
    "for row in review[:2]:\n",
    "    print row\n",
    "#Showing first two reviews"
   ]
  },
  {
   "cell_type": "code",
   "execution_count": 16,
   "metadata": {},
   "outputs": [
    {
     "name": "stdout",
     "output_type": "stream",
     "text": [
      "-0.1 0.4\n",
      "-0.063706976207 0.602263802264\n",
      "0.049517958893 0.405046805047\n",
      "0.0181884057971 0.400893719807\n",
      "0.081847590815 0.533996800301\n",
      "0.236152882206 0.531617505302\n",
      "-0.675 0.666666666667\n",
      "0.00149659863946 0.610385487528\n",
      "0.0675120772947 0.528812974465\n",
      "0.501648351648 0.574725274725\n",
      "0.8125 0.95\n",
      "0.473363095238 0.702380952381\n",
      "1.0 1.0\n",
      "0.210298698215 0.534318027651\n",
      "0.541666666667 0.785833333333\n",
      "0.369230769231 0.635347985348\n",
      "0.273901098901 0.539285714286\n",
      "0.474338624339 0.689391534392\n",
      "0.5 0.2\n",
      "0.3125 0.158333333333\n",
      "0.361680143756 0.553346810422\n",
      "0.263781415344 0.638971560847\n",
      "0.384912280702 0.666929824561\n",
      "0.2 0.533333333333\n",
      "0.397589285714 0.491964285714\n",
      "0.319090909091 0.599696969697\n",
      "0.225 0.740740740741\n",
      "0.715277777778 0.763888888889\n",
      "0.25875 0.5875\n",
      "0.421022727273 0.635700757576\n",
      "0.217678014553 0.560466042966\n",
      "0.38125 0.675\n",
      "0.194841269841 0.647619047619\n",
      "0.524166666667 0.79\n",
      "0.675 0.85\n",
      "0.121666666667 0.488333333333\n",
      "0.24 0.38\n"
     ]
    }
   ],
   "source": [
    "for row in review:\n",
    "    score = sentiment(row)\n",
    "    print score[0], score[1] \n",
    "# Sentiment analysis with Pattern"
   ]
  },
  {
   "cell_type": "markdown",
   "metadata": {},
   "source": [
    "## The scores on the left are the sentiment of the sentences or how good or bad a certain review was based on positive or negative the reviews were. The range is between -1 and 1 the more positive the more towards one the more the review is considered positive. \n",
    "## The scores on the right are the subjectivity for the sentences are they more objective or subjective. The range is -1 and 1 also the more towards one the more subjective it is. "
   ]
  },
  {
   "cell_type": "code",
   "execution_count": 17,
   "metadata": {
    "collapsed": true
   },
   "outputs": [],
   "source": [
    "positive_reviewsp = []\n",
    "negative_reviewsp = []\n",
    "neutral_reviewsp = []\n",
    "\n",
    "for row in review:\n",
    "    t = row\n",
    "    score = sentiment(t)\n",
    "    if score[0] > 0:\n",
    "        positive_reviewsp.append(t)\n",
    "    elif score[0] == 0:\n",
    "        neutral_reviewsp.append(t)\n",
    "    else:\n",
    "        negative_reviewsp.append(t)\n",
    "# putting the sentiments into review categories"
   ]
  },
  {
   "cell_type": "code",
   "execution_count": 18,
   "metadata": {},
   "outputs": [
    {
     "name": "stdout",
     "output_type": "stream",
     "text": [
      "34 Positive\n",
      "3 Negative\n",
      "0 Neutral\n"
     ]
    }
   ],
   "source": [
    "print len(positive_reviewsp),p\n",
    "print len(negative_reviewsp),N\n",
    "print len(neutral_reviewsp),n\n",
    "#showing how many reviews in each category"
   ]
  },
  {
   "cell_type": "markdown",
   "metadata": {},
   "source": [
    "### Another cool feature that pattern has that can be used for sentiment analysis is the assessments feature."
   ]
  },
  {
   "cell_type": "code",
   "execution_count": 19,
   "metadata": {},
   "outputs": [
    {
     "name": "stdout",
     "output_type": "stream",
     "text": [
      "[(['amazing'], 0.6000000000000001, 0.9, None), (['bright'], 0.7000000000000001, 0.7999999999999999, None), (['beautiful'], 0.85, 1.0, None)]\n"
     ]
    }
   ],
   "source": [
    "print sentiment('This is an amazing day. The sun is so bright and the sky is beautiful').assessments"
   ]
  },
  {
   "cell_type": "markdown",
   "metadata": {},
   "source": [
    "## As you can see it will break down the words in the sentences and give the specific meaningful words a score of sentiment and subjectivity."
   ]
  },
  {
   "cell_type": "code",
   "execution_count": 20,
   "metadata": {},
   "outputs": [
    {
     "name": "stdout",
     "output_type": "stream",
     "text": [
      "[(['lousy'], -0.5, 0.5, None), (['italian'], 0.0, 0.0, None), (['extremely', 'poor'], -0.4, 0.6, None), (['better'], 0.5, 0.5, None)]\n",
      "[(['major'], 0.0625, 0.5, None), (['disappointment'], -0.6, 0.4, None), (['favorite'], 0.5, 1.0, None), (['greatly'], 0.8, 0.75, None), (['different'], 0.0, 0.6, None), (['difficult'], -0.5, 1.0, None), (['casual'], -0.5000000000000001, 0.8666666666666667, None), (['friendly'], 0.375, 0.5, None), (['parallel'], 0.0, 0.0, None), (['initially'], 0.0, 0.0, None), (['directly'], 0.1, 0.4, None), (['completely'], 0.1, 0.4, None), (['central'], 0.0, 0.25, None), (['most'], 0.5, 0.5, None), (['other'], -0.125, 0.375, None), (['down'], -0.15555555555555559, 0.2888888888888889, None), (['different'], 0.0, 0.6, None), (['unfortunately'], -0.5, 1.0, None), (['not', 'able'], -0.25, 0.625, None), (['pathetic'], -1.0, 1.0, None), (['far'], 0.1, 1.0, None), (['chicken'], -0.6, 0.95, None), (['chicken'], -0.6, 0.95, None), (['chicken'], -0.6, 0.95, None), (['small'], -0.25, 0.4, None), (['top'], 0.5, 0.5, None), (['main'], 0.16666666666666666, 0.3333333333333333, None), (['nice'], 0.6, 1.0, None), (['actual'], 0.0, 0.1, None), (['only'], 0.0, 1.0, None), (['decent'], 0.16666666666666666, 0.6666666666666666, None), (['hard'], -0.2916666666666667, 0.5416666666666666, None), (['main'], 0.16666666666666666, 0.3333333333333333, None), (['excellently', 'unfortunately'], -0.5, 1.0, None), (['hard'], -0.2916666666666667, 0.5416666666666666, None), (['raw'], -0.23076923076923078, 0.46153846153846156, None), (['better'], 0.5, 0.5, None)]\n",
      "[(['several'], 0.0, 0.0, None), (['past'], -0.25, 0.25, None), (['few'], -0.2, 0.1, None), (['popular'], 0.6, 0.9, None), (['chinese'], 0.0, 0.0, None), (['dim', '!'], 0.125, 0.5, None), (['very', 'uncomfortable'], -0.65, 1.0, None), (['last', '!'], 0.0, 0.06666666666666667, None), (['later'], 0.0, 0.0, None), (['actually'], 0.0, 0.1, None), (['down'], -0.15555555555555559, 0.2888888888888889, None), (['much', 'later'], 0.0, 0.0, None), (['main'], 0.16666666666666666, 0.3333333333333333, None), (['not', 'slow', '!', '!'], 0.23437500000000003, 0.39999999999999997, None), (['sure'], 0.5, 0.8888888888888888, None), (['many'], 0.5, 0.5, None), (['fun'], 0.3, 0.2, None), (['romantic'], 0.0, 0.5, None), (['clearly'], 0.10000000000000002, 0.3833333333333333, None), (['not', 'unique'], -0.1875, 1.0, None), (['right'], 0.2857142857142857, 0.5357142857142857, None), (['next'], 0.0, 0.0, None), (['same'], 0.0, 0.125, None), (['same'], 0.0, 0.125, None), (['such', '!'], 0.0, 0.5, None), (['okay'], 0.5, 0.5, None), (['bad'], -0.6999999999999998, 0.6666666666666666, None), (['simply', 'unfair'], -0.5, 1.0, None), (['really'], 0.2, 0.2, None), (['much'], 0.2, 0.2, None), (['secretly', 'not', 'secretly'], 0.2, 0.7, None), (['multiple'], 0.0, 0.0, None), (['very', 'beautiful'], 1.0, 1.0, None), (['dirty', '!', '!'], -0.9375, 0.8, None), (['least'], -0.3, 0.4, None), (['left'], 0.0, 0.0, None), (['comfortable'], 0.4, 0.8, None), (['sexually'], 0.5, 0.8333333333333334, None), (['back'], 0.0, 0.0, None)]\n",
      "[(['third'], 0.0, 0.0, None), (['final'], 0.0, 1.0, None), (['back'], 0.0, 0.0, None), (['recently'], 0.0, 0.25, None), (['exactly'], 0.25, 0.25, None), (['same'], 0.0, 0.125, None), (['previous'], -0.16666666666666666, 0.16666666666666666, None), (['slow'], -0.30000000000000004, 0.39999999999999997, None), (['mediocre'], -0.5, 1.0, None), (['best'], 1.0, 0.3, None), (['long'], -0.05, 0.4, None), (['not', 'great'], -0.4, 0.75, None), (['flat'], -0.025, 0.125, None), (['second'], 0.0, 0.0, None), (['such'], 0.0, 0.5, None), (['third'], 0.0, 0.0, None), (['not', 'sure'], -0.25, 0.8888888888888888, None), (['highly'], 0.16, 0.5399999999999999, None), (['same'], 0.0, 0.125, None), (['next'], 0.0, 0.0, None), (['sorry'], -0.5, 1.0, None), (['loved'], 0.7, 0.8, None), (['love'], 0.5, 0.6, None)]\n",
      "[(['unfortunately', 'not', 'worth'], -0.15, 0.1, None), (['spent'], -0.1, 0.1, None), (['first'], 0.25, 0.3333333333333333, None), (['blue'], 0.0, 0.1, None), (['good'], 0.7, 0.6000000000000001, None), (['not', 'little'], 0.09375, 0.5, None), (['bland'], -0.16666666666666666, 0.8333333333333334, None), (['second'], 0.0, 0.0, None), (['third'], 0.0, 0.0, None), (['sweet'], 0.35, 0.65, None), (['delicious'], 1.0, 1.0, None), (['cold'], -0.6, 1.0, None), (['sloppy'], -0.4166666666666667, 0.75, None), (['more'], 0.5, 0.5, None), (['attentive'], 0.4, 0.9, None), (['loud'], 0.1, 0.8, None), (['entire'], 0.0, 0.625, None), (['only'], 0.0, 1.0, None), (['enough'], 0.0, 0.5, None), (['new'], 0.13636363636363635, 0.45454545454545453, None), (['overall'], 0.0, 0.0, None), (['right'], 0.2857142857142857, 0.5357142857142857, None), (['sad'], -0.5, 1.0, None)]\n",
      "[(['full'], 0.35, 0.55, None), (['great'], 0.8, 0.75, None), (['delicious'], 1.0, 1.0, None), (['several'], 0.0, 0.0, None), (['large'], 0.21428571428571427, 0.42857142857142855, None), (['more'], 0.5, 0.5, None), (['only'], 0.0, 1.0, None), (['fixed'], 0.1, 0.2, None), (['more'], 0.5, 0.5, None), (['large'], 0.21428571428571427, 0.42857142857142855, None), (['regular'], 0.0, 0.07692307692307693, None), (['previous'], -0.16666666666666666, 0.16666666666666666, None), (['absurd'], -0.5, 1.0, None), (['flippantly'], 0.4, 0.9, None), (['not', 'tired'], 0.2, 0.7, None), (['real'], 0.2, 0.30000000000000004, None), (['great'], 0.8, 0.75, None), (['not', 'willing'], -0.125, 0.75, None), (['extra'], 0.0, 0.1, None)]\n",
      "[(['terrible'], -1.0, 1.0, None), (['terrible'], -1.0, 1.0, None), (['overall'], 0.0, 0.0, None), (['bad'], -0.6999999999999998, 0.6666666666666666, None)]\n",
      "[(['bad'], -0.6999999999999998, 0.6666666666666666, None), (['absolutely'], 0.2, 0.9, None), (['back'], 0.0, 0.0, None), (['many'], 0.5, 0.5, None), (['feverishly'], -0.1, 0.4, None), (['same'], 0.0, 0.125, None), (['consistent'], 0.25, 0.25, None), (['right'], 0.2857142857142857, 0.5357142857142857, None), (['rarely'], 0.3, 0.9, None), (['whole'], 0.2, 0.4, None), (['mess'], -0.175, 0.175, None), (['really'], 0.2, 0.2, None), (['not', 'sure'], -0.25, 0.8888888888888888, None), (['overall'], 0.0, 0.0, None), (['creepy'], -0.5, 1.0, None), (['much', 'worse'], -0.4, 0.6, None), (['poor'], -0.4, 0.6, None), (['most'], 0.5, 0.5, None), (['surely'], 0.5, 0.8888888888888888, None), (['seriously'], -0.3333333333333333, 0.6666666666666666, None), (['dumb'], -0.375, 0.5, None), (['especially', '!'], 0.0, 1.0, None), (['pretty'], 0.25, 1.0, None), (['good'], 0.7, 0.6000000000000001, None), (['not', 'amazing'], -0.30000000000000004, 0.9, None), (['most'], 0.5, 0.5, None), (['certainly', 'not', 'good'], -0.35, 0.6000000000000001, None), (['enough'], 0.0, 0.5, None), (['utterly', 'incompetent'], -0.35, 0.3666666666666667, None), (['real', 'nice'], 0.8999999999999999, 1.0, None), (['awful'], -1.0, 1.0, None), (['lovely'], 0.5, 0.75, None), (['latest'], 0.5, 0.9, None), (['totally'], 0.0, 0.75, None), (['crap', '!', '!'], -1.0, 0.8, 'profanity')]\n",
      "[(['several'], 0.0, 0.0, None), (['finally'], 0.0, 1.0, None), (['able'], 0.5, 0.625, None), (['busy'], 0.1, 0.3, None), (['second'], 0.0, 0.0, None), (['clearly', 'far'], 0.1, 1.0, None), (['down'], -0.15555555555555559, 0.2888888888888889, None), (['best'], 1.0, 0.3, None), (['ok'], 0.5, 0.5, None), (['good'], 0.7, 0.6000000000000001, None), (['great'], 0.8, 0.75, None), (['left'], 0.0, 0.0, None), (['cold'], -0.6, 1.0, None), (['grudgingly'], -0.6, 1.0, None), (['clear'], 0.10000000000000002, 0.3833333333333333, None), (['mixed'], 0.0, 0.25, None), (['hard'], -0.2916666666666667, 0.5416666666666666, None), (['worst'], -1.0, 1.0, None), (['capable'], 0.2, 0.4, None), (['simply'], 0.0, 0.35714285714285715, None), (['much'], 0.2, 0.2, None), (['competently'], 0.5, 0.6666666666666666, None), (['sad'], -0.5, 1.0, None)]\n",
      "[(['best'], 1.0, 0.3, None), (['best'], 1.0, 0.3, None), (['full'], 0.35, 0.55, None), (['wonderful'], 1.0, 1.0, None), (['more'], 0.5, 0.5, None), (['right'], 0.2857142857142857, 0.5357142857142857, None), (['loving'], 0.6, 0.95, None), (['more'], 0.5, 0.5, None), (['more'], 0.5, 0.5, None), (['wonderful'], 1.0, 1.0, None), (['expensive'], -0.5, 0.7, None), (['right'], 0.2857142857142857, 0.5357142857142857, None), (['actually', '!'], 0.0, 0.1, None)]\n",
      "[(['favorite', '!'], 0.625, 1.0, None), (['superior', '!', '!'], 1.0, 0.9, None)]\n"
     ]
    },
    {
     "name": "stdout",
     "output_type": "stream",
     "text": [
      "[(['plain'], -0.21428571428571427, 0.35714285714285715, None), (['best', '!'], 1.0, 0.3, None), (['glad'], 0.5, 1.0, None), (['love'], 0.5, 0.6, None), (['loved'], 0.7, 0.8, None), (['interesting'], 0.5, 0.5, None), (['loved'], 0.7, 0.8, None), (['seriously'], -0.3333333333333333, 0.6666666666666666, None), (['nice'], 0.6, 1.0, None), ([':)', '!', '!'], 0.78125, 1.0, 'mood')]\n",
      "[(['awesome'], 1.0, 1.0, None)]\n",
      "[(['last'], 0.0, 0.06666666666666667, None), (['new'], 0.13636363636363635, 0.45454545454545453, None), (['down'], -0.15555555555555559, 0.2888888888888889, None), (['absolutely', 'amazing'], 0.6000000000000001, 0.9, None), (['right'], 0.2857142857142857, 0.5357142857142857, None), (['cozy'], -0.19999999999999998, 0.75, None), (['enjoying'], 0.5, 0.6, None), (['cold'], -0.6, 1.0, None), (['refreshing'], 0.5, 1.0, None), (['outside'], 0.0, 0.05, None), (['very'], 0.2, 0.3, None), (['cozy'], -0.19999999999999998, 0.75, None), (['many'], 0.5, 0.5, None), (['more'], 0.5, 0.5, None), (['pleasantly'], 0.7333333333333333, 0.9666666666666667, None), (['simple'], 0.0, 0.35714285714285715, None), (['clean'], 0.3666666666666667, 0.7000000000000001, None), (['white', '!'], 0.0, 0.0, None), ([\"n't\", 'familiar'], -0.1875, 0.5, None), (['raw'], -0.23076923076923078, 0.46153846153846156, None), (['only'], 0.0, 1.0, None), (['not', 'fail'], 0.25, 0.29999999999999993, None), (['simple'], 0.0, 0.35714285714285715, None), (['red'], 0.0, 0.0, None), (['little'], -0.1875, 0.5, None), (['equally', 'soft'], 0.1, 0.35, None), (['seasoned'], 0.25, 0.25, None), (['perfectly'], 1.0, 1.0, None), (['excellent'], 1.0, 1.0, None), (['whole'], 0.2, 0.4, None), (['simply'], 0.0, 0.35714285714285715, None), (['center'], -0.1, 0.1, None), (['cool'], 0.35, 0.65, None), (['perfect'], 1.0, 1.0, None), (['great'], 0.8, 0.75, None), (['highly'], 0.16, 0.5399999999999999, None)]\n",
      "[(['fabulous'], 0.4, 1.0, None), (['amazing', '!'], 0.7500000000000001, 0.9, None), (['wonderful'], 1.0, 1.0, None), (['extraordinarily'], 0.3333333333333333, 1.0, None), (['adventurous'], 0.5, 0.9, None), (['top'], 0.5, 0.5, None), (['independently'], 0.0, 0.125, None), (['delicious'], 1.0, 1.0, None), (['enjoying'], 0.5, 0.6, None), (['easily'], 0.43333333333333335, 0.8333333333333334, None)]\n",
      "[(['favorite'], 0.5, 1.0, None), (['kind'], 0.6, 0.9, None), (['excellent'], 1.0, 1.0, None), (['best'], 1.0, 0.3, None), (['raw'], -0.23076923076923078, 0.46153846153846156, None), (['italian'], 0.0, 0.0, None), (['wow'], 0.1, 1.0, None), (['loved'], 0.7, 0.8, None), (['great'], 0.8, 0.75, None), (['very', 'delicious'], 1.0, 1.0, None), (['glad'], 0.5, 1.0, None), (['heavy'], -0.2, 0.5, None), (['simple'], 0.0, 0.35714285714285715, None), (['italian'], 0.0, 0.0, None), (['raw'], -0.23076923076923078, 0.46153846153846156, None)]\n",
      "[(['wow'], 0.1, 1.0, None), (['fatty'], -0.2, 0.4, None), (['best'], 1.0, 0.3, None), (['italian'], 0.0, 0.0, None), (['fresh'], 0.3, 0.5, None), (['other'], -0.125, 0.375, None), (['different'], 0.0, 0.6, None), (['fresh'], 0.3, 0.5, None), (['delicious'], 1.0, 1.0, None), (['right'], 0.2857142857142857, 0.5357142857142857, None), (['amazing'], 0.6000000000000001, 0.9, None), (['fantastic'], 0.4, 0.9, None), (['coma'], -0.1, 0.0, None)]\n",
      "[(['incredible', '!', '!'], 1.0, 0.9, None), (['absolutely'], 0.2, 0.9, None), (['unable'], -0.5, 0.5, None), (['italian'], 0.0, 0.0, None), (['unfortunately', 'pregnant'], 0.3333333333333333, 0.5, None), (['absolute', '!'], 0.25, 0.9, None), (['incredible'], 0.9, 0.9, None), (['pregnant', '!'], 0.41666666666666663, 0.5, None), (['delicious'], 1.0, 1.0, None), (['rose'], 0.6, 0.95, None), (['only', '!'], 0.0, 1.0, None), (['delicious'], 1.0, 1.0, None), (['refreshing', '!'], 0.625, 1.0, None), (['amazing', '!'], 0.7500000000000001, 0.9, None), (['simply'], 0.0, 0.35714285714285715, None), (['incredible', '!', '!', '!'], 1.0, 0.9, None), (['down'], -0.15555555555555559, 0.2888888888888889, None), (['right'], 0.2857142857142857, 0.5357142857142857, None), (['much'], 0.2, 0.2, None), (['really'], 0.2, 0.2, None), (['perfect'], 1.0, 1.0, None), (['happiness', '!'], 0.875, 0.2, None), (['incredible'], 0.9, 0.9, None), (['incredible', '!'], 1.0, 0.9, None), (['more'], 0.5, 0.5, None), (['fantastic'], 0.4, 0.9, None), (['absolute', '!'], 0.25, 0.9, None), (['absolute'], 0.2, 0.9, None), (['perfect'], 1.0, 1.0, None), (['outside', '!', '!'], 0.0, 0.05, None)]\n",
      "[(['best'], 1.0, 0.3, None), (['blue'], 0.0, 0.1, None), (['blue'], 0.0, 0.1, None), (['best'], 1.0, 0.3, None)]\n",
      "[(['italian', '!'], 0.0, 0.0, None), (['first'], 0.25, 0.3333333333333333, None), (['best'], 1.0, 0.3, None), (['back'], 0.0, 0.0, None)]\n",
      "[(['favorite'], 0.5, 1.0, None), (['best', '!'], 1.0, 0.3, None), (['amazing'], 0.6000000000000001, 0.9, None), (['italian'], 0.0, 0.0, None), (['more'], 0.5, 0.5, None), (['traditional'], 0.0, 0.75, None), (['italian'], 0.0, 0.0, None), (['worth'], 0.3, 0.1, None), (['finally', 'able'], 0.5, 0.625, None), (['other'], -0.125, 0.375, None), (['pleased'], 0.5, 1.0, None), (['great'], 0.8, 0.75, None), (['main'], 0.16666666666666666, 0.3333333333333333, None), (['only'], 0.0, 1.0, None), (['good'], 0.7, 0.6000000000000001, None), (['professional'], 0.1, 0.1, None), (['excellent'], 1.0, 1.0, None), (['love'], 0.5, 0.6, None), (['first'], 0.25, 0.3333333333333333, None), (['super'], 0.3333333333333333, 0.6666666666666666, None), (['fresh'], 0.3, 0.5, None), (['delicious'], 1.0, 1.0, None), (['fatty'], -0.2, 0.4, None), (['blue'], 0.0, 0.1, None), (['right'], 0.2857142857142857, 0.5357142857142857, None), (['nice'], 0.6, 1.0, None), (['nice'], 0.6, 1.0, None), (['slight'], -0.16666666666666666, 0.16666666666666666, None), (['nice'], 0.6, 1.0, None), (['next'], 0.0, 0.0, None), (['best', '!'], 1.0, 0.3, None), (['perfectly'], 1.0, 1.0, None), (['thick'], -0.30000000000000004, 0.475, None), (['actually'], 0.0, 0.1, None), (['culinary'], 0.0, 0.0, None), (['great'], 0.8, 0.75, None), (['small'], -0.25, 0.4, None), (['delicious'], 1.0, 1.0, None), (['surprisingly', 'not'], -0.35, 0.5, None), (['heavy'], -0.2, 0.5, None), (['main'], 0.16666666666666666, 0.3333333333333333, None), (['lovely'], 0.5, 0.75, None), (['black'], -0.16666666666666666, 0.43333333333333335, None), (['good'], 0.7, 0.6000000000000001, None), (['honestly'], 0.6, 0.9, None), (['good'], 0.7, 0.6000000000000001, None), (['great'], 0.8, 0.75, None), (['completely', 'satisfied', '!'], 0.625, 1.0, None), (['interesting'], 0.5, 0.5, None), (['comfortable'], 0.4, 0.8, None), (['most'], 0.5, 0.5, None), (['back'], 0.0, 0.0, None), (['more'], 0.5, 0.5, None)]\n",
      "[(['best'], 1.0, 0.3, None), (['much'], 0.2, 0.2, None), (['special'], 0.35714285714285715, 0.5714285714285714, None), (['delicious'], 1.0, 1.0, None), (['black'], -0.16666666666666666, 0.43333333333333335, None), (['bass'], -0.15000000000000002, 0.5, None), (['thick'], -0.30000000000000004, 0.475, None), (['great'], 0.8, 0.75, None), (['hard'], -0.2916666666666667, 0.5416666666666666, None), (['classically', 'italian'], 0.0, 0.0, None), (['other'], -0.125, 0.375, None), (['incredible'], 0.9, 0.9, None), (['such'], 0.0, 0.5, None), (['huge'], 0.4000000000000001, 0.9, None), (['bass', '!'], -0.18750000000000003, 0.5, None), (['simply', \"n't\", 'wrong'], 0.25, 0.9, None), (['down'], -0.15555555555555559, 0.2888888888888889, None), (['own'], 0.6, 1.0, None), (['incredible'], 0.9, 0.9, None), (['lesser'], 0.0, 0.5, None), (['perfectly'], 1.0, 1.0, None), (['afraid'], -0.6, 0.9, None), (['incredible'], 0.9, 0.9, None), (['especially'], 0.0, 1.0, None)]\n",
      "[(['loved', '!'], 0.875, 0.8, None), (['fabulous'], 0.4, 1.0, None), (['great'], 0.8, 0.75, None), (['wonderful'], 1.0, 1.0, None), (['fresh'], 0.3, 0.5, None), (['unique'], 0.375, 1.0, None), (['very', 'very', 'good'], 0.9099999999999999, 0.7800000000000001, None), (['very', 'attentive'], 0.52, 1.0, None), (['lovely'], 0.5, 0.75, None), (['cozy'], -0.19999999999999998, 0.75, None), (['best'], 1.0, 0.3, None), (['surprised', '!'], 0.125, 0.9, None), (['expensive'], -0.5, 0.7, None), (['many'], 0.5, 0.5, None), (['other'], -0.125, 0.375, None), (['more'], 0.5, 0.5, None), (['less'], -0.16666666666666666, 0.06666666666666667, None), (['gladly'], 0.5, 1.0, None), (['back', '!'], 0.0, 0.0, None)]\n",
      "[(['love'], 0.5, 0.6, None), (['few'], -0.2, 0.1, None), (['good'], 0.7, 0.6000000000000001, None), (['casual'], -0.5000000000000001, 0.8666666666666667, None), (['more'], 0.5, 0.5, None)]\n",
      "[(['best'], 1.0, 0.3, None), (['italian'], 0.0, 0.0, None), (['not', 'big'], -0.0, 0.1, None), (['right'], 0.2857142857142857, 0.5357142857142857, None), (['superb'], 1.0, 1.0, None), (['very', 'attentive'], 0.52, 1.0, None), (['unique'], 0.375, 1.0, None), (['definitely', 'back'], 0.0, 0.0, None)]\n",
      "[(['last'], 0.0, 0.06666666666666667, None), (['liked'], 0.6, 0.8, None), (['very', 'much', 'bright'], 0.7000000000000001, 0.7999999999999999, None), (['comfortable'], 0.4, 0.8, None), (['professional'], 0.1, 0.1, None), (['very', 'good'], 0.9099999999999999, 0.7800000000000001, None), (['sorry'], -0.5, 1.0, None), (['more'], 0.5, 0.5, None), (['only'], 0.0, 1.0, None), (['overall'], 0.0, 0.0, None), (['great'], 0.8, 0.75, None)]\n",
      "[(['loved', '!'], 0.875, 0.8, None), (['fabulous'], 0.4, 1.0, None), (['fantastic'], 0.4, 0.9, None), (['fantastic'], 0.4, 0.9, None), (['cool'], 0.35, 0.65, None), (['great'], 0.8, 0.75, None), (['sorry'], -0.5, 1.0, None), (['bad'], -0.6999999999999998, 0.6666666666666666, None), (['second', '!'], 0.0, 0.0, None)]\n",
      "[(['awesome'], 1.0, 1.0, None), (['awesome'], 1.0, 1.0, None), (['excellent'], 1.0, 1.0, None), (['particularly'], 0.16666666666666666, 0.3333333333333333, None), (['impeccable'], 0.75, 0.75, None), (['friendly'], 0.375, 0.5, None)]\n",
      "[(['fantastic'], 0.4, 0.9, None), (['very', 'attentive'], 0.52, 1.0, None), (['back'], 0.0, 0.0, None), (['intimate'], 0.2, 0.6, None), (['loved'], 0.7, 0.8, None), (['enough'], 0.0, 0.5, None), (['more'], 0.5, 0.5, None), ([\"n't\", 'fit', '!'], -0.25, 0.4, None)]\n",
      "[(['loved'], 0.7, 0.8, None), (['cool'], 0.35, 0.65, None), (['good'], 0.7, 0.6000000000000001, None), (['long'], -0.05, 0.4, None), (['really'], 0.2, 0.2, None), (['excellent'], 1.0, 1.0, None), (['new'], 0.13636363636363635, 0.45454545454545453, None), (['last'], 0.0, 0.06666666666666667, None), (['more'], 0.5, 0.5, None), (['excellent'], 1.0, 1.0, None), (['inventive'], 0.5, 1.0, None), (['very'], 0.2, 0.3, None), (['more'], 0.5, 0.5, None), (['expensive'], -0.5, 0.7, None), (['memorable'], 0.5, 1.0, None), (['excellent'], 1.0, 1.0, None)]\n",
      "[(['much', 'good', '!'], 0.875, 0.6000000000000001, None), (['good'], 0.7, 0.6000000000000001, None), (['absolutely'], 0.2, 0.9, None), (['raw'], -0.23076923076923078, 0.46153846153846156, None), (['best'], 1.0, 0.3, None), (['raw'], -0.23076923076923078, 0.46153846153846156, None), (['actually'], 0.0, 0.1, None), (['little'], -0.1875, 0.5, None), (['really', 'delicious'], 1.0, 1.0, None), (['little', '!'], -0.234375, 0.5, None), (['amazing'], 0.6000000000000001, 0.9, None), (['perfect'], 1.0, 1.0, None), (['main'], 0.16666666666666666, 0.3333333333333333, None), (['wonderful'], 1.0, 1.0, None), (['sweet'], 0.35, 0.65, None), (['firm'], -0.2, 0.4, None), (['great', '!'], 1.0, 0.75, None), (['complained'], -0.3, 0.2, None), (['bad'], -0.6999999999999998, 0.6666666666666666, None), (['best'], 1.0, 0.3, None), (['long'], -0.05, 0.4, None), (['friendly'], 0.375, 0.5, None), (['attentive'], 0.4, 0.9, None), (['really'], 0.2, 0.2, None), (['very'], 0.2, 0.3, None), (['mean'], -0.3125, 0.6875, None), (['disappointing'], -0.6, 0.7, None), (['pleasant'], 0.7333333333333333, 0.9666666666666667, None), (['back'], 0.0, 0.0, None), (['very', 'expensive'], -0.65, 0.9099999999999999, None), (['own'], 0.6, 1.0, None), (['least'], -0.3, 0.4, None), (['very', 'happy'], 1.0, 1.0, None), (['wide'], -0.1, 0.4, None), (['past'], -0.25, 0.25, None), (['daily'], 0.0, 0.0, None), (['definitely'], 0.0, 0.5, None)]\n",
      "[(['awesome'], 1.0, 1.0, None), (['green'], -0.2, 0.3, None), (['conscious'], 0.1, 0.5, None), (['pretty'], 0.25, 1.0, None), (['sweet', '!'], 0.4375, 0.65, None), (['good'], 0.7, 0.6000000000000001, None)]\n",
      "[(['quick'], 0.3333333333333333, 0.5, None), (['average'], -0.15, 0.39999999999999997, None), (['fresh'], 0.3, 0.5, None), (['excellent'], 1.0, 1.0, None), (['chicken'], -0.6, 0.95, None), (['right'], 0.2857142857142857, 0.5357142857142857, None)]\n",
      "[(['quick'], 0.3333333333333333, 0.5, None), (['delicious'], 1.0, 1.0, None), (['cheerful'], 0.4, 1.0, None), (['very', 'friendly'], 0.48750000000000004, 0.65, None), (['free'], 0.4, 0.8, None)]\n",
      "[(['awesome', '!'], 1.0, 1.0, None), (['free'], 0.4, 0.8, None), (['good'], 0.7, 0.6000000000000001, None), (['nice'], 0.6, 1.0, None)]\n",
      "[(['love'], 0.5, 0.6, None), (['free'], 0.4, 0.8, None), (['next'], 0.0, 0.0, None), (['hard'], -0.2916666666666667, 0.5416666666666666, None), (['such'], 0.0, 0.5, None)]\n",
      "[(['best'], 1.0, 0.3, None), (['white'], 0.0, 0.0, None), (['light'], 0.4, 0.7, None), (['blue'], 0.0, 0.1, None), (['shit'], -0.2, 0.8, 'profanity')]\n"
     ]
    }
   ],
   "source": [
    "for row in review:\n",
    "    t = row\n",
    "    score = sentiment(t)\n",
    "    print sentiment (t).assessments\n",
    "    \n",
    "# showing the categories for all of the meaningful words in the entire list of reviews"
   ]
  },
  {
   "cell_type": "markdown",
   "metadata": {},
   "source": [
    "## The last word I would like to point is of course profanity and Pattern will classify it as such automatically."
   ]
  },
  {
   "cell_type": "code",
   "execution_count": 21,
   "metadata": {},
   "outputs": [
    {
     "name": "stdout",
     "output_type": "stream",
     "text": [
      "[([':-)'], 0.5, 1.0, 'mood')]\n",
      "[([':-('], -0.75, 1.0, 'mood')]\n",
      "[([':p'], 0.75, 1.0, 'mood')]\n",
      "[(['=d'], 1.0, 1.0, 'mood')]\n"
     ]
    }
   ],
   "source": [
    "print sentiment(':-)').assessments\n",
    "print sentiment(':-(').assessments\n",
    "print sentiment(':P').assessments\n",
    "print sentiment('=D').assessments\n",
    "#It also does text faces and classifies them into mood"
   ]
  },
  {
   "cell_type": "code",
   "execution_count": 22,
   "metadata": {},
   "outputs": [
    {
     "name": "stdout",
     "output_type": "stream",
     "text": [
      "[]\n"
     ]
    }
   ],
   "source": [
    "print sentiment(':X').assessments\n",
    "# If it does not recognize the character it will return nothing and not cause an error"
   ]
  },
  {
   "cell_type": "markdown",
   "metadata": {},
   "source": [
    "## Pattern can also do many other features however they are not really used for sentiment analysis if you wish to lean more visit https://www.clips.uantwerpen.be/pages/pattern-en. "
   ]
  },
  {
   "cell_type": "markdown",
   "metadata": {},
   "source": [
    "# Text Blob\n",
    "## Text Blob also categorizes the sentences into subjective and polarity. "
   ]
  },
  {
   "cell_type": "code",
   "execution_count": 23,
   "metadata": {
    "scrolled": true
   },
   "outputs": [
    {
     "name": "stdout",
     "output_type": "stream",
     "text": [
      "-0.1 0.4\n",
      "-0.063706976207 0.602263802264\n",
      "0.049517958893 0.405046805047\n",
      "0.0181884057971 0.400893719807\n",
      "0.0701039411977 0.511746933622\n",
      "0.236152882206 0.531617505302\n",
      "-0.675 0.666666666667\n",
      "0.00149659863946 0.610385487528\n",
      "0.0675120772947 0.528812974465\n",
      "0.501648351648 0.574725274725\n",
      "0.8125 0.95\n",
      "0.475784632035 0.693073593074\n",
      "1.0 1.0\n",
      "0.208544952199 0.51885766655\n",
      "0.541666666667 0.785833333333\n",
      "0.369230769231 0.635347985348\n",
      "0.273901098901 0.539285714286\n",
      "0.474338624339 0.689391534392\n",
      "0.5 0.2\n",
      "0.3125 0.158333333333\n",
      "0.361680143756 0.553346810422\n",
      "0.232531415344 0.638971560847\n",
      "0.384912280702 0.666929824561\n",
      "0.2 0.533333333333\n",
      "0.397589285714 0.491964285714\n",
      "0.319090909091 0.599696969697\n",
      "0.225 0.740740740741\n",
      "0.715277777778 0.763888888889\n",
      "0.3525 0.5875\n",
      "0.421022727273 0.635700757576\n",
      "0.217678014553 0.560466042966\n",
      "0.38125 0.675\n",
      "0.194841269841 0.647619047619\n",
      "0.524166666667 0.79\n",
      "0.675 0.85\n",
      "0.121666666667 0.488333333333\n",
      "0.24 0.38\n"
     ]
    }
   ],
   "source": [
    "infile = 'data\\sample_restaurant_reviews.csv'\n",
    "\n",
    "\n",
    "with open(infile, 'r') as csvfile:\n",
    "    rows = csv.reader(csvfile)\n",
    "    for row in rows:\n",
    "        sentence = row[0]\n",
    "        blob = TextBlob(sentence.decode('utf-8'))\n",
    "        print blob.sentiment.polarity, blob.sentiment.subjectivity\n",
    "        \n",
    "# Using Text Blob Sentiment Analysis"
   ]
  },
  {
   "cell_type": "markdown",
   "metadata": {},
   "source": [
    "## Just like Pattern it will return two values one for sentiment and one for subjectivity."
   ]
  },
  {
   "cell_type": "code",
   "execution_count": 24,
   "metadata": {
    "scrolled": true
   },
   "outputs": [
    {
     "name": "stdout",
     "output_type": "stream",
     "text": [
      "-0.1\n",
      "-0.063706976207\n",
      "0.049517958893\n",
      "0.0181884057971\n",
      "0.0701039411977\n",
      "0.236152882206\n",
      "-0.675\n",
      "0.00149659863946\n",
      "0.0675120772947\n",
      "0.501648351648\n",
      "0.8125\n",
      "0.475784632035\n",
      "1.0\n",
      "0.208544952199\n",
      "0.541666666667\n",
      "0.369230769231\n",
      "0.273901098901\n",
      "0.474338624339\n",
      "0.5\n",
      "0.3125\n",
      "0.361680143756\n",
      "0.232531415344\n",
      "0.384912280702\n",
      "0.2\n",
      "0.397589285714\n",
      "0.319090909091\n",
      "0.225\n",
      "0.715277777778\n",
      "0.3525\n",
      "0.421022727273\n",
      "0.217678014553\n",
      "0.38125\n",
      "0.194841269841\n",
      "0.524166666667\n",
      "0.675\n",
      "0.121666666667\n",
      "0.24\n"
     ]
    }
   ],
   "source": [
    "positivet = []\n",
    "negativet = []\n",
    "neutralt= []\n",
    "for row in review:\n",
    "    t = row\n",
    "    blob = TextBlob(row.decode('utf-8'))\n",
    "    print blob.sentiment.polarity\n",
    "    if blob.sentiment.polarity > 0:\n",
    "        positivet.append(t)\n",
    "    elif blob.sentiment.polarity < 0:\n",
    "         negativet.append(t)\n",
    "    elif blob.sentiment.polarity == 0.0:\n",
    "        neutralt.append(t)\n",
    "#Storing Text Blob sentiment analysis and only showing the sentiment"
   ]
  },
  {
   "cell_type": "code",
   "execution_count": 25,
   "metadata": {},
   "outputs": [
    {
     "name": "stdout",
     "output_type": "stream",
     "text": [
      "34 Positive\n",
      "3 Negative\n",
      "0 Neutral\n"
     ]
    }
   ],
   "source": [
    "print len(positivet),p\n",
    "print len(negativet),N\n",
    "print len(neutralt),n\n",
    "#Total for the sentimet Analysis"
   ]
  },
  {
   "cell_type": "markdown",
   "metadata": {},
   "source": [
    "## Unlike Pattern it doesn’t have much more to offer for sentiment analysis however it does have many more features such as spell check, word count, translation and more. To learn more http://textblob.readthedocs.io/en/dev/quickstart.html"
   ]
  },
  {
   "cell_type": "markdown",
   "metadata": {
    "collapsed": true
   },
   "source": [
    "# Vader\n",
    "## Vader will explain the amount of negative neutral and positive sentiment for  the sentence and then explain the total compound score for the review."
   ]
  },
  {
   "cell_type": "code",
   "execution_count": 26,
   "metadata": {},
   "outputs": [
    {
     "name": "stdout",
     "output_type": "stream",
     "text": [
      "{'neg': 0.457, 'neu': 0.443, 'pos': 0.1, 'compound': -0.8054}\n",
      "{'neg': 0.076, 'neu': 0.847, 'pos': 0.077, 'compound': 0.1265}\n",
      "{'neg': 0.069, 'neu': 0.854, 'pos': 0.076, 'compound': -0.5961}\n",
      "{'neg': 0.041, 'neu': 0.851, 'pos': 0.108, 'compound': 0.9533}\n",
      "{'neg': 0.068, 'neu': 0.907, 'pos': 0.025, 'compound': -0.8922}\n",
      "{'neg': 0.09, 'neu': 0.83, 'pos': 0.081, 'compound': -0.5556}\n",
      "{'neg': 0.199, 'neu': 0.511, 'pos': 0.29, 'compound': 0.1551}\n",
      "{'neg': 0.11, 'neu': 0.76, 'pos': 0.13, 'compound': 0.8847}\n",
      "{'neg': 0.053, 'neu': 0.789, 'pos': 0.158, 'compound': 0.9612}\n",
      "{'neg': 0.044, 'neu': 0.811, 'pos': 0.145, 'compound': 0.9399}\n",
      "{'neg': 0.0, 'neu': 0.487, 'pos': 0.513, 'compound': 0.8114}\n",
      "{'neg': 0.036, 'neu': 0.737, 'pos': 0.227, 'compound': 0.9784}\n",
      "{'neg': 0.0, 'neu': 0.0, 'pos': 1.0, 'compound': 0.6249}\n",
      "{'neg': 0.041, 'neu': 0.823, 'pos': 0.136, 'compound': 0.9916}\n",
      "{'neg': 0.012, 'neu': 0.706, 'pos': 0.282, 'compound': 0.9848}\n",
      "{'neg': 0.0, 'neu': 0.697, 'pos': 0.303, 'compound': 0.982}\n",
      "{'neg': 0.0, 'neu': 0.749, 'pos': 0.251, 'compound': 0.9826}\n",
      "{'neg': 0.025, 'neu': 0.782, 'pos': 0.193, 'compound': 0.9952}\n",
      "{'neg': 0.0, 'neu': 0.811, 'pos': 0.189, 'compound': 0.8555}\n",
      "{'neg': 0.0, 'neu': 0.809, 'pos': 0.191, 'compound': 0.6696}\n",
      "{'neg': 0.02, 'neu': 0.751, 'pos': 0.229, 'compound': 0.9986}\n",
      "{'neg': 0.029, 'neu': 0.821, 'pos': 0.151, 'compound': 0.9846}\n",
      "{'neg': 0.0, 'neu': 0.801, 'pos': 0.199, 'compound': 0.9593}\n",
      "{'neg': 0.027, 'neu': 0.83, 'pos': 0.143, 'compound': 0.6908}\n",
      "{'neg': 0.0, 'neu': 0.763, 'pos': 0.237, 'compound': 0.9393}\n",
      "{'neg': 0.019, 'neu': 0.689, 'pos': 0.292, 'compound': 0.9621}\n",
      "{'neg': 0.067, 'neu': 0.564, 'pos': 0.369, 'compound': 0.9751}\n",
      "{'neg': 0.0, 'neu': 0.509, 'pos': 0.491, 'compound': 0.9728}\n",
      "{'neg': 0.042, 'neu': 0.85, 'pos': 0.108, 'compound': 0.4985}\n",
      "{'neg': 0.0, 'neu': 0.842, 'pos': 0.158, 'compound': 0.9473}\n",
      "{'neg': 0.052, 'neu': 0.714, 'pos': 0.234, 'compound': 0.9977}\n",
      "{'neg': 0.0, 'neu': 0.621, 'pos': 0.379, 'compound': 0.9422}\n",
      "{'neg': 0.0, 'neu': 0.843, 'pos': 0.157, 'compound': 0.8402}\n",
      "{'neg': 0.034, 'neu': 0.573, 'pos': 0.393, 'compound': 0.9686}\n",
      "{'neg': 0.0, 'neu': 0.515, 'pos': 0.485, 'compound': 0.9437}\n",
      "{'neg': 0.093, 'neu': 0.658, 'pos': 0.249, 'compound': 0.836}\n",
      "{'neg': 0.043, 'neu': 0.839, 'pos': 0.119, 'compound': 0.7536}\n"
     ]
    }
   ],
   "source": [
    "for row in review:\n",
    "    score = analyzer.polarity_scores(row)\n",
    "    print score\n",
    "# Running the sentiment analysis with vader"
   ]
  },
  {
   "cell_type": "code",
   "execution_count": 27,
   "metadata": {
    "collapsed": true
   },
   "outputs": [],
   "source": [
    "positive_reviewsv = []\n",
    "negative_reviewsv = []\n",
    "neutral_reviewsv = []\n",
    "\n",
    "for row in review:\n",
    "    t = row\n",
    "    score = analyzer.polarity_scores(t)\n",
    "    if  analyzer.polarity_scores(row)['compound'] > 0:\n",
    "        positive_reviewsv.append(t)\n",
    "    elif analyzer.polarity_scores(row)['compound'] < 0:\n",
    "        negative_reviewsv.append(t) \n",
    "    else:\n",
    "        neutral_reviewsv.append(t)\n",
    "#Putting the scores into positive negative and neutral"
   ]
  },
  {
   "cell_type": "code",
   "execution_count": 28,
   "metadata": {},
   "outputs": [
    {
     "name": "stdout",
     "output_type": "stream",
     "text": [
      "33 Positive\n",
      "4 Negative\n",
      "0 Neutral\n"
     ]
    }
   ],
   "source": [
    "print len(positive_reviewsv),p\n",
    "print len(negative_reviewsv),N\n",
    "print len(neutral_reviewsv),n\n",
    "# Showing the scores of each type "
   ]
  },
  {
   "cell_type": "markdown",
   "metadata": {},
   "source": [
    "## Unlike the other packages Vader shows how likely the scores are to be positive negative or neutral."
   ]
  },
  {
   "cell_type": "markdown",
   "metadata": {},
   "source": [
    "# Comparison"
   ]
  },
  {
   "cell_type": "code",
   "execution_count": 29,
   "metadata": {},
   "outputs": [
    {
     "name": "stdout",
     "output_type": "stream",
     "text": [
      "Bing Liu\n",
      "29 Positive\n",
      "7 Negative\n",
      "1 Neutral\n",
      "Pattern\n",
      "34 Positive\n",
      "3 Negative\n",
      "0 Neutral\n",
      "Text Blob\n",
      "34 Positive\n",
      "3 Negative\n",
      "0 Neutral\n",
      "Vader\n",
      "33 Positive\n",
      "4 Negative\n",
      "0 Neutral\n"
     ]
    }
   ],
   "source": [
    "print (\"Bing Liu\")\n",
    "print len(positive_reviewb),p\n",
    "print len(negative_reviewb),N\n",
    "print len(neutral_reviewb),n\n",
    "print (\"Pattern\")\n",
    "print len(positive_reviewsp),p\n",
    "print len(negative_reviewsp),N\n",
    "print len(neutral_reviewsp),n\n",
    "print (\"Text Blob\")\n",
    "print len(positivet),p\n",
    "print len(negativet),N\n",
    "print len(neutralt),n\n",
    "print (\"Vader\")\n",
    "print len(positive_reviewsv),p\n",
    "print len(negative_reviewsv),N\n",
    "print len(neutral_reviewsv),n"
   ]
  },
  {
   "cell_type": "markdown",
   "metadata": {},
   "source": [
    "### The findings show that Bing Liu seems to be a little less decisive and have a neutral review, While the others seem to be almost the same with Vader only having one more negative review than positive. The question is, if we use a larger data set from actual reviews will these have the same classifications or will they be different?"
   ]
  },
  {
   "cell_type": "markdown",
   "metadata": {},
   "source": [
    "# Large Comparison"
   ]
  },
  {
   "cell_type": "markdown",
   "metadata": {},
   "source": [
    "## With the results from the previous reviews of 37 it seems that the four packages are similar however, with a larger data set it shows the discrepancy between the different packages."
   ]
  },
  {
   "cell_type": "code",
   "execution_count": 30,
   "metadata": {
    "scrolled": true
   },
   "outputs": [
    {
     "name": "stdout",
     "output_type": "stream",
     "text": [
      "['   A new level of awful. My curiosity got the better of me. Could Delta be as bad as everyone I knew told me it was. I should have trusted my instinct. A clapped out old A330, clapped out cabin design, the seat to be fair was comfortable and I did get a good sleep. Dinner service did not happen as they did not have enough beef to cater for the needs of their business passengers. Sat in seat 4J I was surprised to learn that you need to sit on the \"captains side\" of the plane if you want to get your choice of meal with Delta. The crew member I spoke to was wholly disinterested in any form of complaint and said \"Listen what do you want?\" Naturally I considered approaching the purser on the plane to speak to him about perhaps guiding his staff on how to deal with premium passengers. When I learned a few moments later that this guy was the purser I realised that my night was over and this was a bus service to Atlanta and that I should expect no level of service whatsoever. Looking for good things. The seat, thats it. Bring your own food, don\\'t expect any manners, get on the bus, sit down, shut up and you\\'ll get to your destination in one piece. I spend a lot of my own money flying in a style that I like to enjoy. Delta failed, failed and failed again. I regret that I now have to continue flying on to Paris with Delta. Thankfully this flight is in economy and as such I already have no expectation of service whatsoever.']\n"
     ]
    }
   ],
   "source": [
    "review = []\n",
    "openfile = open('data\\AAa200review.csv', 'rb')\n",
    "r = csv.reader(openfile)\n",
    "for i in r:\n",
    "    review.append(i[0])    \n",
    "openfile.close()\n",
    "\n",
    "print review[:1]\n",
    "# data from www.airlinequality.com"
   ]
  },
  {
   "cell_type": "code",
   "execution_count": 31,
   "metadata": {},
   "outputs": [
    {
     "data": {
      "text/plain": [
       "654"
      ]
     },
     "execution_count": 31,
     "metadata": {},
     "output_type": "execute_result"
    }
   ],
   "source": [
    "len(review)\n",
    "# As you can see there are 654 reviews in total which are of varying length and are much more than the 37 previous reviews"
   ]
  },
  {
   "cell_type": "markdown",
   "metadata": {},
   "source": [
    "### Due to the size of the reviews the print codes will be under comment if you wish to view every review score for each of the packages just remove the # before the print statements"
   ]
  },
  {
   "cell_type": "code",
   "execution_count": 32,
   "metadata": {},
   "outputs": [],
   "source": [
    "documents = [re.sub(\"[^a-zA-Z]+\", \" \", document) for document in review]\n",
    "texts = [[word for word in document.lower().split() ] for document in documents]\n",
    "#breaking down the sentences into individual tokens for analysis\n",
    "\n",
    "#Bing-Liu lexicon (positive word list & negative word list)\n",
    "positive_words = open(\"data/positive-words.txt\", \"rb\").read().splitlines()\n",
    "negative_words = open(\"data/negative-words.txt\", \"rb\").read().splitlines()\n",
    "\n",
    "for sentence in texts:\n",
    "    positiveb = 0\n",
    "    negativeb = 0\n",
    "    for word in sentence:\n",
    "        if word in positive_words:\n",
    "            positiveb += 1\n",
    "        elif word in negative_words:\n",
    "            negativeb += 1\n",
    "   # print positiveb, negativeb,positiveb-negativeb, \"Positive\" if positiveb-negativeb > 0 else \"Neutral\" if positiveb-negativeb == 0 else \"Negative\"\n",
    "# Categorizing the reviews into Positive negative and Neutral"
   ]
  },
  {
   "cell_type": "code",
   "execution_count": 33,
   "metadata": {},
   "outputs": [
    {
     "name": "stdout",
     "output_type": "stream",
     "text": [
      "235 Positive\n",
      "359 Negative\n",
      "60 Neutral\n"
     ]
    }
   ],
   "source": [
    "# Putting the reviews into positive negative or neutral category\n",
    "positive_reviewb = []\n",
    "negative_reviewb = []\n",
    "neutral_reviewb = []\n",
    "\n",
    "for sentence in texts:\n",
    "    positive = 0\n",
    "    negative = 0\n",
    "    for word in sentence:\n",
    "        if word in positive_words:\n",
    "            positive += 1\n",
    "        elif word in negative_words:\n",
    "            negative += 1\n",
    "    if positive-negative > 0:\n",
    "        positive_reviewb.append(sentence)\n",
    "    elif positive-negative == 0:\n",
    "        neutral_reviewb.append(sentence)\n",
    "    else:\n",
    "        negative_reviewb.append(sentence)\n",
    "# This will be used to categorize each of the reviews into either positive negative or neutral\n",
    "print len(positive_reviewb),p\n",
    "print len(negative_reviewb),N\n",
    "print len(neutral_reviewb),n"
   ]
  },
  {
   "cell_type": "markdown",
   "metadata": {},
   "source": [
    "## As you can tell Bing Liu still has a hard time deciding on whether positive or negative it has 60  neutral reviews."
   ]
  },
  {
   "cell_type": "markdown",
   "metadata": {},
   "source": [
    "# Pattern"
   ]
  },
  {
   "cell_type": "code",
   "execution_count": 34,
   "metadata": {},
   "outputs": [
    {
     "name": "stderr",
     "output_type": "stream",
     "text": [
      "C:\\Users\\Wyatt Prall\\Anaconda2\\lib\\site-packages\\pattern\\text\\__init__.py:979: UnicodeWarning: Unicode equal comparison failed to convert both arguments to Unicode - interpreting them as being unequal\n",
      "  and tokens[j] in (\"'\", \"\\\"\", u\"”\", u\"’\", \"...\", \".\", \"!\", \"?\", \")\", EOS):\n",
      "C:\\Users\\Wyatt Prall\\Anaconda2\\lib\\site-packages\\pattern\\text\\__init__.py:1943: UnicodeWarning: Unicode equal comparison failed to convert both arguments to Unicode - interpreting them as being unequal\n",
      "  if w in imap(lambda e: e.lower(), e):\n"
     ]
    }
   ],
   "source": [
    "for row in review:\n",
    "    score = sentiment(row)\n",
    "    #print score[0], score[1] \n",
    "#Scoring the reviews with pattern"
   ]
  },
  {
   "cell_type": "code",
   "execution_count": 35,
   "metadata": {},
   "outputs": [
    {
     "name": "stdout",
     "output_type": "stream",
     "text": [
      "394 Positive\n",
      "258 Negative\n",
      "2 Neutral\n"
     ]
    }
   ],
   "source": [
    "positive_reviewsp = []\n",
    "negative_reviewsp = []\n",
    "neutral_reviewsp = []\n",
    "\n",
    "for row in review:\n",
    "    t = row\n",
    "    score = sentiment(t)\n",
    "    if score[0] > 0:\n",
    "        positive_reviewsp.append(t)\n",
    "    elif score[0] == 0:\n",
    "        neutral_reviewsp.append(t)\n",
    "    else:\n",
    "        negative_reviewsp.append(t)\n",
    "# putting the sentiments into review categories\n",
    "print len(positive_reviewsp),p\n",
    "print len(negative_reviewsp),N\n",
    "print len(neutral_reviewsp),n\n",
    "#showing how many reviews in each category"
   ]
  },
  {
   "cell_type": "markdown",
   "metadata": {},
   "source": [
    "## These scores are much more decisive with only two in the neutral category."
   ]
  },
  {
   "cell_type": "markdown",
   "metadata": {},
   "source": [
    "# Text Blob"
   ]
  },
  {
   "cell_type": "code",
   "execution_count": 36,
   "metadata": {},
   "outputs": [],
   "source": [
    "infile = 'data\\AAa200review.csv'\n",
    "\n",
    "\n",
    "with open(infile, 'r') as csvfile:\n",
    "    rows = csv.reader(csvfile)\n",
    "    for row in rows:\n",
    "        sentence = row[0]\n",
    "        blob = TextBlob(sentence.decode('utf-8'))\n",
    "       # print blob.sentiment.polarity, blob.sentiment.subjectivity\n",
    "        \n",
    "# Using Text Blob for polarity and subjectivity scores "
   ]
  },
  {
   "cell_type": "code",
   "execution_count": 37,
   "metadata": {},
   "outputs": [],
   "source": [
    "positivet = []\n",
    "negativet = []\n",
    "neutralt= []\n",
    "for row in review:\n",
    "    t = row\n",
    "    blob = TextBlob(row.decode('utf-8'))\n",
    "   # print blob.sentiment.polarity\n",
    "    if blob.sentiment.polarity > 0:\n",
    "        positivet.append(t)\n",
    "    elif blob.sentiment.polarity < 0:\n",
    "         negativet.append(t)\n",
    "    elif blob.sentiment.polarity == 0.0:\n",
    "        neutralt.append(t)\n",
    "#Storing Text Blob sentiment analysis"
   ]
  },
  {
   "cell_type": "code",
   "execution_count": 38,
   "metadata": {},
   "outputs": [
    {
     "name": "stdout",
     "output_type": "stream",
     "text": [
      "396 Positive\n",
      "256 Negative\n",
      "2 Neutral\n"
     ]
    }
   ],
   "source": [
    "print len(positivet),p\n",
    "print len(negativet),N\n",
    "print len(neutralt),n"
   ]
  },
  {
   "cell_type": "markdown",
   "metadata": {},
   "source": [
    "# Text Blob has almost identical values to that of Pattern."
   ]
  },
  {
   "cell_type": "markdown",
   "metadata": {},
   "source": [
    "# Vader"
   ]
  },
  {
   "cell_type": "code",
   "execution_count": 39,
   "metadata": {},
   "outputs": [],
   "source": [
    "for row in review:\n",
    "    score = analyzer.polarity_scores(row)\n",
    "    #print score\n",
    "#Scores for the Vader sentiment analysis"
   ]
  },
  {
   "cell_type": "code",
   "execution_count": 40,
   "metadata": {
    "collapsed": true
   },
   "outputs": [],
   "source": [
    "positive_reviewsv = []\n",
    "negative_reviewsv = []\n",
    "neutral_reviewsv = []\n",
    "\n",
    "for row in review:\n",
    "    t = row\n",
    "    score = analyzer.polarity_scores(t)\n",
    "    if  analyzer.polarity_scores(row)['compound'] > 0:\n",
    "        positive_reviewsv.append(t)\n",
    "    elif analyzer.polarity_scores(row)['compound'] < 0:\n",
    "        negative_reviewsv.append(t) \n",
    "    else:\n",
    "        neutral_reviewsv.append(t)\n",
    "# putting the reviews into categories based off of the vader sentiment "
   ]
  },
  {
   "cell_type": "code",
   "execution_count": 41,
   "metadata": {},
   "outputs": [
    {
     "name": "stdout",
     "output_type": "stream",
     "text": [
      "270 Positive\n",
      "382 Negative\n",
      "2 Neutral\n"
     ]
    }
   ],
   "source": [
    "print len(positive_reviewsv),p\n",
    "print len(negative_reviewsv),N\n",
    "print len(neutral_reviewsv),n"
   ]
  },
  {
   "cell_type": "code",
   "execution_count": 42,
   "metadata": {
    "scrolled": true
   },
   "outputs": [
    {
     "name": "stdout",
     "output_type": "stream",
     "text": [
      "Bing Liu\n",
      "235 Positive\n",
      "359 Negative\n",
      "60 Neutral\n",
      "Pattern\n",
      "394 Positive\n",
      "258 Negative\n",
      "2 Neutral\n",
      "Text Blob\n",
      "396 Positive\n",
      "256 Negative\n",
      "2 Neutral\n",
      "Vader\n",
      "270 Positive\n",
      "382 Negative\n",
      "2 Neutral\n"
     ]
    }
   ],
   "source": [
    "print (\"Bing Liu\")\n",
    "print len(positive_reviewb),p\n",
    "print len(negative_reviewb),N\n",
    "print len(neutral_reviewb),n\n",
    "print (\"Pattern\")\n",
    "print len(positive_reviewsp),p\n",
    "print len(negative_reviewsp),N\n",
    "print len(neutral_reviewsp),n\n",
    "print (\"Text Blob\")\n",
    "print len(positivet),p\n",
    "print len(negativet),N\n",
    "print len(neutralt),n\n",
    "print (\"Vader\")\n",
    "print len(positive_reviewsv),p\n",
    "print len(negative_reviewsv),N\n",
    "print len(neutral_reviewsv),n"
   ]
  },
  {
   "cell_type": "markdown",
   "metadata": {},
   "source": [
    "## As you can see there seems to be a difference into how each of the packages separates the reviews. It seems that Bing Liu might not be the strongest because it has 60 neutral reviews while the other packages only have 2 neutral. I also see that Pattern and Text Blob basically have the same type of analysis with a very small difference between the two. Vader is very different it seems to favor more negative than any of the others. But why is this happening?"
   ]
  },
  {
   "cell_type": "markdown",
   "metadata": {},
   "source": [
    "## My assumption is that these packages use different lexicons and have weights for how the words are scored. It seems that Pattern and Text Blob can be used almost interchangeably without much of a difference. I think that Bing Liu is best used for short reviews that tend to be either definitively positive or negative. As for Vader I see it to have a different way of scoring by giving the sentence a combined score and perhaps with its neutral factor it will sway how the results are shown."
   ]
  },
  {
   "cell_type": "markdown",
   "metadata": {},
   "source": [
    "# Data Visualization with word count and word cloud"
   ]
  },
  {
   "cell_type": "markdown",
   "metadata": {},
   "source": [
    "## Now that the reviews are separated into positive and negative it would be nice to be able to view the words that are frequent and display them for a presentation if needed."
   ]
  },
  {
   "cell_type": "markdown",
   "metadata": {},
   "source": [
    "# Bing Liu"
   ]
  },
  {
   "cell_type": "code",
   "execution_count": 51,
   "metadata": {},
   "outputs": [
    {
     "data": {
      "text/plain": [
       "[('the', 1607),\n",
       " ('to', 1377),\n",
       " ('and', 1179),\n",
       " ('i', 963),\n",
       " ('a', 848),\n",
       " ('was', 819),\n",
       " ('in', 554),\n",
       " ('flight', 514),\n",
       " ('on', 484),\n",
       " ('of', 428),\n",
       " ('with', 398),\n",
       " ('for', 393),\n",
       " ('my', 364),\n",
       " ('were', 328),\n",
       " ('that', 281),\n",
       " ('it', 268),\n",
       " ('we', 262),\n",
       " ('they', 261),\n",
       " ('delta', 255),\n",
       " ('not', 240),\n",
       " ('this', 235),\n",
       " ('had', 227),\n",
       " ('but', 218),\n",
       " ('at', 216),\n",
       " ('is', 208),\n",
       " ('from', 193),\n",
       " ('as', 190),\n",
       " ('have', 189),\n",
       " ('service', 183),\n",
       " ('me', 180)]"
      ]
     },
     "execution_count": 51,
     "metadata": {},
     "output_type": "execute_result"
    }
   ],
   "source": [
    "# remove extra brackets)\n",
    "positive_review_tokens = [x for y in positive_reviewb for x in y]\n",
    "\n",
    "# count words in list\n",
    "from collections import Counter\n",
    "positive_review_wordcounts= Counter(positive_review_tokens)\n",
    "positive_review_wordcounts.most_common(30)\n",
    "# this has words that dont matter "
   ]
  },
  {
   "cell_type": "code",
   "execution_count": 44,
   "metadata": {
    "collapsed": true
   },
   "outputs": [],
   "source": [
    "# remove common words \n",
    "stoplist = stopwords.words('english')\n",
    "# to remove words such as flight and delta from airline reviews will not affect the analysis\n",
    "more = set(['flight', 'delta','service','plane', 'american','airlines','seat', 'time','flights','seats', 'gate'])\n",
    "stoplist = set(stoplist) | more \n",
    "texts = [[word for word in text if word not in stoplist] for text in positive_reviewb]\n",
    "#remove short words taht are less than 3 letters\n",
    "texts = [[ word for word in tokens if len(word) >= 3 ] for tokens in texts]"
   ]
  },
  {
   "cell_type": "code",
   "execution_count": 45,
   "metadata": {},
   "outputs": [
    {
     "data": {
      "text/plain": [
       "['new',\n",
       " 'level',\n",
       " 'awful',\n",
       " 'curiosity',\n",
       " 'got',\n",
       " 'better',\n",
       " 'could',\n",
       " 'bad',\n",
       " 'everyone',\n",
       " 'knew',\n",
       " 'told',\n",
       " 'trusted',\n",
       " 'instinct',\n",
       " 'clapped',\n",
       " 'old',\n",
       " 'clapped',\n",
       " 'cabin',\n",
       " 'design',\n",
       " 'fair',\n",
       " 'comfortable',\n",
       " 'get',\n",
       " 'good',\n",
       " 'sleep',\n",
       " 'dinner',\n",
       " 'happen',\n",
       " 'enough',\n",
       " 'beef',\n",
       " 'cater',\n",
       " 'needs',\n",
       " 'business',\n",
       " 'passengers',\n",
       " 'sat',\n",
       " 'surprised',\n",
       " 'learn',\n",
       " 'need',\n",
       " 'sit',\n",
       " 'captains',\n",
       " 'side',\n",
       " 'want',\n",
       " 'get',\n",
       " 'choice',\n",
       " 'meal',\n",
       " 'crew',\n",
       " 'member',\n",
       " 'spoke',\n",
       " 'wholly',\n",
       " 'disinterested',\n",
       " 'form',\n",
       " 'complaint',\n",
       " 'said',\n",
       " 'listen',\n",
       " 'want',\n",
       " 'naturally',\n",
       " 'considered',\n",
       " 'approaching',\n",
       " 'purser',\n",
       " 'speak',\n",
       " 'perhaps',\n",
       " 'guiding',\n",
       " 'staff',\n",
       " 'deal',\n",
       " 'premium',\n",
       " 'passengers',\n",
       " 'learned',\n",
       " 'moments',\n",
       " 'later',\n",
       " 'guy',\n",
       " 'purser',\n",
       " 'realised',\n",
       " 'night',\n",
       " 'bus',\n",
       " 'atlanta',\n",
       " 'expect',\n",
       " 'level',\n",
       " 'whatsoever',\n",
       " 'looking',\n",
       " 'good',\n",
       " 'things',\n",
       " 'thats',\n",
       " 'bring',\n",
       " 'food',\n",
       " 'expect',\n",
       " 'manners',\n",
       " 'get',\n",
       " 'bus',\n",
       " 'sit',\n",
       " 'shut',\n",
       " 'get',\n",
       " 'destination',\n",
       " 'one',\n",
       " 'piece',\n",
       " 'spend',\n",
       " 'lot',\n",
       " 'money',\n",
       " 'flying',\n",
       " 'style',\n",
       " 'like',\n",
       " 'enjoy',\n",
       " 'failed',\n",
       " 'failed',\n",
       " 'failed',\n",
       " 'regret',\n",
       " 'continue',\n",
       " 'flying',\n",
       " 'paris',\n",
       " 'thankfully',\n",
       " 'economy',\n",
       " 'already',\n",
       " 'expectation',\n",
       " 'whatsoever',\n",
       " 'perfect',\n",
       " 'flew',\n",
       " 'work',\n",
       " 'tuesday',\n",
       " 'san',\n",
       " 'francisco',\n",
       " 'los',\n",
       " 'angeles',\n",
       " 'back',\n",
       " 'nyc',\n",
       " 'check',\n",
       " 'airport',\n",
       " 'easy',\n",
       " 'times',\n",
       " 'boarding',\n",
       " 'new',\n",
       " 'group',\n",
       " 'system',\n",
       " 'organized',\n",
       " 'board',\n",
       " 'get',\n",
       " 'personal',\n",
       " 'ife',\n",
       " 'lots',\n",
       " 'movies',\n",
       " 'free',\n",
       " 'food',\n",
       " 'provided',\n",
       " 'purchase',\n",
       " 'drinks',\n",
       " 'offered',\n",
       " 'times',\n",
       " 'nice',\n",
       " 'cabin',\n",
       " 'feels',\n",
       " 'comfortable',\n",
       " 'economy',\n",
       " 'bags',\n",
       " 'fast',\n",
       " 'belt',\n",
       " 'arrival',\n",
       " 'always',\n",
       " 'switching',\n",
       " 'gates',\n",
       " 'sometimes',\n",
       " 'even',\n",
       " 'terminals',\n",
       " 'arrived',\n",
       " 'stated',\n",
       " 'ticket',\n",
       " 'boarding',\n",
       " 'sat',\n",
       " 'wait',\n",
       " 'heard',\n",
       " 'say',\n",
       " 'tuscan',\n",
       " 'changed',\n",
       " 'gates',\n",
       " 'portland',\n",
       " 'obviously',\n",
       " 'changed',\n",
       " 'earlier',\n",
       " 'slow',\n",
       " 'seemingly',\n",
       " 'uninterested',\n",
       " 'told',\n",
       " 'moved',\n",
       " 'gates',\n",
       " 'end',\n",
       " 'terminal',\n",
       " 'ran',\n",
       " 'literally',\n",
       " 'arrived',\n",
       " 'min',\n",
       " 'door',\n",
       " 'closed',\n",
       " 'lady',\n",
       " 'made',\n",
       " 'real',\n",
       " 'effort',\n",
       " 'get',\n",
       " 'cited',\n",
       " 'rules',\n",
       " 'meanwhile',\n",
       " 'could',\n",
       " 'see',\n",
       " 'sitting',\n",
       " 'clearly',\n",
       " 'could',\n",
       " 'helped',\n",
       " 'tried',\n",
       " 'gates',\n",
       " 'always',\n",
       " 'seems',\n",
       " 'plastic',\n",
       " 'fake',\n",
       " 'like',\n",
       " 'going',\n",
       " 'thru',\n",
       " 'motions',\n",
       " 'even',\n",
       " 'trying',\n",
       " 'hide',\n",
       " 'regard',\n",
       " 'customer',\n",
       " 'never',\n",
       " 'fly',\n",
       " 'find',\n",
       " 'pilot',\n",
       " 'philadelphia',\n",
       " 'manchester',\n",
       " 'agent',\n",
       " 'said',\n",
       " 'almost',\n",
       " 'ready',\n",
       " 'board',\n",
       " 'couple',\n",
       " 'times',\n",
       " 'announced',\n",
       " 'needed',\n",
       " 'locate',\n",
       " 'captain',\n",
       " 'calling',\n",
       " 'woman',\n",
       " 'next',\n",
       " 'said',\n",
       " 'want',\n",
       " 'find',\n",
       " 'captain',\n",
       " 'call',\n",
       " 'miss',\n",
       " 'could',\n",
       " 'agent',\n",
       " 'announced',\n",
       " 'found',\n",
       " 'another',\n",
       " 'pilot',\n",
       " 'pilot',\n",
       " 'passenger',\n",
       " 'another',\n",
       " 'agreed',\n",
       " 'fly',\n",
       " 'delayed',\n",
       " 'get',\n",
       " 'manchester',\n",
       " 'least',\n",
       " 'agent',\n",
       " 'honest',\n",
       " 'enough',\n",
       " 'say',\n",
       " 'going',\n",
       " 'supposed',\n",
       " 'fly',\n",
       " 'portland',\n",
       " 'abruptly',\n",
       " 'cancelled',\n",
       " 'friends',\n",
       " 'nice',\n",
       " 'enough',\n",
       " 'pick',\n",
       " 'new',\n",
       " 'hampshire',\n",
       " 'thankful',\n",
       " 'vacation',\n",
       " 'would',\n",
       " 'cancelled',\n",
       " 'amsterdam',\n",
       " 'seattle',\n",
       " 'admit',\n",
       " 'read',\n",
       " 'reports',\n",
       " 'site',\n",
       " 'looking',\n",
       " 'forward',\n",
       " 'good',\n",
       " 'attendants',\n",
       " 'professional',\n",
       " 'helpful',\n",
       " 'food',\n",
       " 'drinks',\n",
       " 'offered',\n",
       " 'good',\n",
       " 'quality',\n",
       " 'well',\n",
       " 'presented',\n",
       " 'comfortable',\n",
       " 'complaint',\n",
       " 'ife',\n",
       " 'film',\n",
       " 'selection',\n",
       " 'particularly',\n",
       " 'choice',\n",
       " 'enough',\n",
       " 'could',\n",
       " 'pick',\n",
       " 'early',\n",
       " 'morning',\n",
       " 'start',\n",
       " 'dulles',\n",
       " 'check',\n",
       " 'smooth',\n",
       " 'boarding',\n",
       " 'orderly',\n",
       " 'aircraft',\n",
       " 'old',\n",
       " 'good',\n",
       " 'arrival',\n",
       " 'atlanta',\n",
       " 'attendants',\n",
       " 'arrival',\n",
       " 'helpful',\n",
       " 'courteous',\n",
       " 'connection',\n",
       " 'atlanta',\n",
       " 'distant',\n",
       " 'terminal',\n",
       " 'way',\n",
       " 'terminal',\n",
       " 'honolulu',\n",
       " 'boarded',\n",
       " 'older',\n",
       " 'registration',\n",
       " 'number',\n",
       " 'one',\n",
       " 'old',\n",
       " 'northwest',\n",
       " 'aircraft',\n",
       " 'layout',\n",
       " 'business',\n",
       " 'first',\n",
       " 'latest',\n",
       " 'product',\n",
       " 'excellent',\n",
       " 'record',\n",
       " 'upkeep',\n",
       " 'aircraft',\n",
       " 'even',\n",
       " 'old',\n",
       " 'entertainment',\n",
       " 'system',\n",
       " 'worked',\n",
       " 'well',\n",
       " 'food',\n",
       " 'poor',\n",
       " 'professional',\n",
       " 'top',\n",
       " 'notch',\n",
       " 'arrival',\n",
       " 'honolulu',\n",
       " 'ahead',\n",
       " 'great',\n",
       " 'view',\n",
       " 'big',\n",
       " 'island',\n",
       " 'maui',\n",
       " 'towards',\n",
       " 'landing',\n",
       " 'saw',\n",
       " 'beautiful',\n",
       " 'waikiki',\n",
       " 'atlanta',\n",
       " 'charlotte',\n",
       " 'let',\n",
       " 'preface',\n",
       " 'saying',\n",
       " 'whole',\n",
       " 'agent',\n",
       " 'lady',\n",
       " 'working',\n",
       " 'atlanta',\n",
       " 'charlotte',\n",
       " 'needs',\n",
       " 'serious',\n",
       " 'lessons',\n",
       " 'customer',\n",
       " 'understand',\n",
       " 'policies',\n",
       " 'protocols',\n",
       " 'really',\n",
       " 'need',\n",
       " 'blatantly',\n",
       " 'rude',\n",
       " 'customers',\n",
       " 'fly',\n",
       " 'almost',\n",
       " 'weekly',\n",
       " 'carry',\n",
       " 'almost',\n",
       " 'always',\n",
       " 'forced',\n",
       " 'check',\n",
       " 'computer',\n",
       " 'bag',\n",
       " 'small',\n",
       " 'purse',\n",
       " 'purse',\n",
       " 'fit',\n",
       " 'inside',\n",
       " 'computer',\n",
       " 'bag',\n",
       " 'wear',\n",
       " 'cross',\n",
       " 'body',\n",
       " 'slide',\n",
       " 'computer',\n",
       " 'bag',\n",
       " 'get',\n",
       " 'walking',\n",
       " 'tarmac',\n",
       " 'makes',\n",
       " 'stop',\n",
       " 'consolidate',\n",
       " 'tiny',\n",
       " 'purse',\n",
       " 'laptop',\n",
       " 'bag',\n",
       " 'quick',\n",
       " 'argument',\n",
       " 'saying',\n",
       " 'fit',\n",
       " 'fly',\n",
       " 'forces',\n",
       " 'step',\n",
       " 'aside',\n",
       " 'backed',\n",
       " 'way',\n",
       " 'proceeds',\n",
       " 'yell',\n",
       " 'choose',\n",
       " 'stand',\n",
       " 'essentially',\n",
       " 'makes',\n",
       " 'fun',\n",
       " 'next',\n",
       " 'passenger',\n",
       " 'boarding',\n",
       " 'saying',\n",
       " 'clearly',\n",
       " 'understand',\n",
       " 'first',\n",
       " 'ten',\n",
       " 'times',\n",
       " 'said',\n",
       " 'record',\n",
       " 'heard',\n",
       " 'know',\n",
       " 'rules',\n",
       " 'fly',\n",
       " 'enough',\n",
       " 'items',\n",
       " 'never',\n",
       " 'given',\n",
       " 'hard',\n",
       " 'enforces',\n",
       " 'rules',\n",
       " 'others',\n",
       " 'bravo',\n",
       " 'job',\n",
       " 'well',\n",
       " 'done',\n",
       " 'least',\n",
       " 'finesse',\n",
       " 'class',\n",
       " 'rude',\n",
       " 'unprofessional',\n",
       " 'low',\n",
       " 'class',\n",
       " 'airline',\n",
       " 'best',\n",
       " 'part',\n",
       " 'consolidated',\n",
       " 'forced',\n",
       " 'check',\n",
       " 'carry',\n",
       " 'anyways',\n",
       " 'could',\n",
       " 'suggested',\n",
       " 'getgo',\n",
       " 'instead',\n",
       " 'making',\n",
       " 'spectacle',\n",
       " 'stars',\n",
       " 'atlanta',\n",
       " 'myers',\n",
       " 'overbooked',\n",
       " 'include',\n",
       " 'ticket',\n",
       " 'leaving',\n",
       " 'stranded',\n",
       " 'hartsfield',\n",
       " 'since',\n",
       " 'last',\n",
       " 'back',\n",
       " 'rsw',\n",
       " 'said',\n",
       " 'would',\n",
       " 'find',\n",
       " 'another',\n",
       " 'waited',\n",
       " 'kiosk',\n",
       " 'minutes',\n",
       " 'rudely',\n",
       " 'direct',\n",
       " 'customer',\n",
       " 'counter',\n",
       " 'wait',\n",
       " 'almost',\n",
       " 'hour',\n",
       " 'talked',\n",
       " 'lady',\n",
       " 'said',\n",
       " 'since',\n",
       " 'economy',\n",
       " 'customer',\n",
       " 'could',\n",
       " 'rebook',\n",
       " 'another',\n",
       " 'since',\n",
       " 'zero',\n",
       " 'balance',\n",
       " 'available',\n",
       " 'fault',\n",
       " 'overbooked',\n",
       " 'refused',\n",
       " 'give',\n",
       " 'said',\n",
       " 'could',\n",
       " 'try',\n",
       " 'calling',\n",
       " 'customer',\n",
       " 'number',\n",
       " 'order',\n",
       " 'another',\n",
       " 'full',\n",
       " 'price',\n",
       " 'ticket',\n",
       " 'found',\n",
       " 'way',\n",
       " 'better',\n",
       " 'deal',\n",
       " 'southwest',\n",
       " 'left',\n",
       " 'better',\n",
       " 'atlanta',\n",
       " 'grand',\n",
       " 'cayman',\n",
       " 'island',\n",
       " 'flown',\n",
       " 'hours',\n",
       " 'gone',\n",
       " 'days',\n",
       " 'without',\n",
       " 'sleep',\n",
       " 'getting',\n",
       " 'last',\n",
       " 'leg',\n",
       " 'onboard',\n",
       " 'requested',\n",
       " 'attendant',\n",
       " 'warm',\n",
       " 'water',\n",
       " 'asked',\n",
       " 'alright',\n",
       " 'told',\n",
       " 'going',\n",
       " 'gave',\n",
       " 'glass',\n",
       " 'ginger',\n",
       " 'ale',\n",
       " 'worked',\n",
       " 'instantly',\n",
       " 'love',\n",
       " 'cheerful',\n",
       " 'cabin',\n",
       " 'staff',\n",
       " 'going',\n",
       " 'way',\n",
       " 'make',\n",
       " 'passengers',\n",
       " 'happy',\n",
       " 'atlanta',\n",
       " 'orlando',\n",
       " 'fantastic',\n",
       " 'experience',\n",
       " 'husband',\n",
       " 'flew',\n",
       " 'first',\n",
       " 'ever',\n",
       " 'get',\n",
       " 'honeymoon',\n",
       " 'cruise',\n",
       " 'orlando',\n",
       " 'made',\n",
       " 'entire',\n",
       " 'experience',\n",
       " 'easy',\n",
       " 'stress',\n",
       " 'free',\n",
       " 'made',\n",
       " 'sure',\n",
       " 'knew',\n",
       " 'exactly',\n",
       " 'every',\n",
       " 'step',\n",
       " 'way',\n",
       " 'got',\n",
       " 'plenty',\n",
       " 'early',\n",
       " 'attendants',\n",
       " 'kind',\n",
       " 'helpful',\n",
       " 'got',\n",
       " 'enjoy',\n",
       " 'snack',\n",
       " 'drink',\n",
       " 'orlando',\n",
       " 'back',\n",
       " 'home',\n",
       " 'screens',\n",
       " 'games',\n",
       " 'movies',\n",
       " 'made',\n",
       " 'home',\n",
       " 'even',\n",
       " 'enjoyable',\n",
       " 'grateful',\n",
       " 'making',\n",
       " 'first',\n",
       " 'flying',\n",
       " 'experience',\n",
       " 'absolutely',\n",
       " 'perfect',\n",
       " 'look',\n",
       " 'forward',\n",
       " 'flying',\n",
       " 'future',\n",
       " 'atlanta',\n",
       " 'san',\n",
       " 'salvador',\n",
       " 'onboard',\n",
       " 'newly',\n",
       " 'retrofitted',\n",
       " 'aircraft',\n",
       " 'cabin',\n",
       " 'amazing',\n",
       " 'new',\n",
       " 'clean',\n",
       " 'mood',\n",
       " 'lighting',\n",
       " 'overhead',\n",
       " 'bins',\n",
       " 'made',\n",
       " 'cabin',\n",
       " 'look',\n",
       " 'much',\n",
       " 'open',\n",
       " 'inviting',\n",
       " 'crew',\n",
       " 'helpful',\n",
       " 'attendants',\n",
       " 'spoke',\n",
       " 'spanish',\n",
       " 'assisted',\n",
       " 'elderly',\n",
       " 'young',\n",
       " 'passengers',\n",
       " 'departed',\n",
       " 'couple',\n",
       " 'minutes',\n",
       " 'prior',\n",
       " 'scheduled',\n",
       " 'captain',\n",
       " 'kept',\n",
       " 'everyone',\n",
       " 'informed',\n",
       " 'airborne',\n",
       " 'attendants',\n",
       " 'served',\n",
       " 'sandwich',\n",
       " 'pretzels',\n",
       " 'cookies',\n",
       " 'snack',\n",
       " 'size',\n",
       " 'snickers',\n",
       " 'beverage',\n",
       " 'good',\n",
       " 'since',\n",
       " 'short',\n",
       " 'international',\n",
       " 'onboard',\n",
       " 'every',\n",
       " 'passenger',\n",
       " 'also',\n",
       " 'access',\n",
       " 'inflight',\n",
       " 'entertainment',\n",
       " 'comfortable',\n",
       " 'compared',\n",
       " 'older',\n",
       " 'overall',\n",
       " 'air',\n",
       " 'lines',\n",
       " 'experience',\n",
       " 'upgraded',\n",
       " 'exceptional',\n",
       " 'auckland',\n",
       " 'boston',\n",
       " 'via',\n",
       " 'los',\n",
       " 'angeles',\n",
       " 'two',\n",
       " 'options',\n",
       " 'get',\n",
       " 'direct',\n",
       " 'united',\n",
       " 'air',\n",
       " 'qantas',\n",
       " 'operated',\n",
       " 'slightly',\n",
       " 'cheaper',\n",
       " 'picked',\n",
       " 'pleasantly',\n",
       " 'surprised',\n",
       " 'check',\n",
       " 'breeze',\n",
       " 'crew',\n",
       " 'well',\n",
       " 'presented',\n",
       " 'welcoming',\n",
       " 'throughout',\n",
       " 'polite',\n",
       " 'friendly',\n",
       " 'attentive',\n",
       " 'best',\n",
       " 'personality',\n",
       " 'chatted',\n",
       " 'happily',\n",
       " 'passengers',\n",
       " 'food',\n",
       " 'nice',\n",
       " 'right',\n",
       " 'amount',\n",
       " 'full',\n",
       " 'bloated',\n",
       " 'inflight',\n",
       " 'entertainment',\n",
       " 'selection',\n",
       " 'really',\n",
       " 'good',\n",
       " 'leg',\n",
       " 'room',\n",
       " 'width',\n",
       " 'fine',\n",
       " 'average',\n",
       " 'height',\n",
       " 'build',\n",
       " 'take',\n",
       " 'headphones',\n",
       " 'give',\n",
       " 'ear',\n",
       " 'buds',\n",
       " 'overall',\n",
       " 'auckland',\n",
       " 'excellent',\n",
       " 'value',\n",
       " 'money',\n",
       " 'fly',\n",
       " 'get',\n",
       " 'concerns',\n",
       " 'short',\n",
       " 'layover',\n",
       " 'hours',\n",
       " 'clear',\n",
       " 'customs',\n",
       " 'security',\n",
       " 'get',\n",
       " 'boston',\n",
       " 'worried',\n",
       " 'lax',\n",
       " 'right',\n",
       " 'express',\n",
       " 'connection',\n",
       " 'pass',\n",
       " 'waiting',\n",
       " 'passengers',\n",
       " 'connecting',\n",
       " 'within',\n",
       " 'hours',\n",
       " 'meant',\n",
       " 'skipped',\n",
       " 'lot',\n",
       " 'queues',\n",
       " 'staff',\n",
       " 'multiple',\n",
       " 'points',\n",
       " 'direct',\n",
       " 'passengers',\n",
       " 'made',\n",
       " 'next',\n",
       " 'hour',\n",
       " 'getting',\n",
       " 'first',\n",
       " 'one',\n",
       " 'grab',\n",
       " 'coffee',\n",
       " 'boston',\n",
       " 'well',\n",
       " 'organised',\n",
       " 'left',\n",
       " 'crew',\n",
       " 'fine',\n",
       " 'happily',\n",
       " 'bring',\n",
       " 'headphones',\n",
       " 'inflight',\n",
       " 'entertainment',\n",
       " 'available',\n",
       " 'give',\n",
       " 'headphones',\n",
       " 'overall',\n",
       " 'nicely',\n",
       " 'surprised',\n",
       " 'use',\n",
       " 'next',\n",
       " 'head',\n",
       " 'america',\n",
       " 'bangkok',\n",
       " 'indianapolis',\n",
       " 'via',\n",
       " 'tokyo',\n",
       " 'minneapolis',\n",
       " 'air',\n",
       " 'lines',\n",
       " 'excellent',\n",
       " 'lie',\n",
       " 'flat',\n",
       " 'international',\n",
       " 'sectors',\n",
       " 'roomy',\n",
       " 'flat',\n",
       " 'bed',\n",
       " 'staff',\n",
       " 'professional',\n",
       " 'friendly',\n",
       " 'tokyo',\n",
       " 'captain',\n",
       " 'talked',\n",
       " 'business',\n",
       " 'class',\n",
       " 'person',\n",
       " 'take',\n",
       " 'know',\n",
       " 'paid',\n",
       " 'lot',\n",
       " 'want',\n",
       " 'thank',\n",
       " 'choosing',\n",
       " 'keep',\n",
       " 'business',\n",
       " 'spiel',\n",
       " 'pilots',\n",
       " 'cockpit',\n",
       " 'food',\n",
       " 'good',\n",
       " 'ordered',\n",
       " 'lacto',\n",
       " 'ovo',\n",
       " 'vegetarian',\n",
       " 'meals',\n",
       " 'arrived',\n",
       " 'indianapolis',\n",
       " 'rested',\n",
       " 'bags',\n",
       " 'able',\n",
       " 'fly',\n",
       " 'first',\n",
       " 'class',\n",
       " 'transcontinental',\n",
       " 'route',\n",
       " 'new',\n",
       " 'york',\n",
       " 'san',\n",
       " 'diego',\n",
       " 'certainly',\n",
       " 'treat',\n",
       " 'looked',\n",
       " 'forward',\n",
       " 'decided',\n",
       " 'treat',\n",
       " 'admirals',\n",
       " 'club',\n",
       " 'jfk',\n",
       " 'one',\n",
       " 'highlights',\n",
       " 'journey',\n",
       " 'great',\n",
       " 'healthy',\n",
       " 'snacks',\n",
       " 'fresh',\n",
       " 'guacamole',\n",
       " 'well',\n",
       " 'made',\n",
       " 'cocktails',\n",
       " 'aircraft',\n",
       " 'cabin',\n",
       " 'standard',\n",
       " 'leather',\n",
       " 'ample',\n",
       " 'space',\n",
       " 'well',\n",
       " 'stocked',\n",
       " 'personal',\n",
       " 'samsung',\n",
       " 'tablets',\n",
       " 'believe',\n",
       " 'first',\n",
       " 'class',\n",
       " 'special',\n",
       " 'including',\n",
       " 'check',\n",
       " 'happened',\n",
       " 'first',\n",
       " 'class',\n",
       " 'check',\n",
       " 'priority',\n",
       " 'food',\n",
       " 'quite',\n",
       " 'tasty',\n",
       " 'albeit',\n",
       " 'meals',\n",
       " 'different',\n",
       " 'web',\n",
       " 'site',\n",
       " 'listed',\n",
       " 'pre',\n",
       " 'order',\n",
       " 'issue',\n",
       " 'nothing',\n",
       " 'robotic',\n",
       " 'functioning',\n",
       " 'fake',\n",
       " 'smiles',\n",
       " 'minimal',\n",
       " 'one',\n",
       " 'drink',\n",
       " 'expedited',\n",
       " 'food',\n",
       " 'presentation',\n",
       " 'get',\n",
       " 'get',\n",
       " 'simple',\n",
       " 'glass',\n",
       " 'water',\n",
       " 'spent',\n",
       " 'galley',\n",
       " 'complaining',\n",
       " 'company',\n",
       " 'easy',\n",
       " 'hear',\n",
       " 'rather',\n",
       " 'taking',\n",
       " 'caring',\n",
       " 'premium',\n",
       " 'paying',\n",
       " 'passengers',\n",
       " 'first',\n",
       " 'class',\n",
       " 'represent',\n",
       " 'high',\n",
       " 'standard',\n",
       " 'airline',\n",
       " 'great',\n",
       " 'job',\n",
       " 'customer',\n",
       " 'paramount',\n",
       " 'determinant',\n",
       " 'booked',\n",
       " 'mother',\n",
       " 'columbus',\n",
       " 'washington',\n",
       " 'tomorrow',\n",
       " 'march',\n",
       " 'could',\n",
       " 'find',\n",
       " 'photo',\n",
       " 'due',\n",
       " 'early',\n",
       " 'stages',\n",
       " 'dementia',\n",
       " 'called',\n",
       " ...]"
      ]
     },
     "execution_count": 45,
     "metadata": {},
     "output_type": "execute_result"
    }
   ],
   "source": [
    "cleaned_positive_review_tokens = [x for y in texts for x in y]\n",
    "# showing the cleaned words that have all of the words that do not add to the analysis"
   ]
  },
  {
   "cell_type": "code",
   "execution_count": 46,
   "metadata": {},
   "outputs": [
    {
     "data": {
      "text/plain": [
       "[('good', 131),\n",
       " ('get', 112),\n",
       " ('would', 107),\n",
       " ('one', 97),\n",
       " ('food', 92),\n",
       " ('check', 87),\n",
       " ('first', 87),\n",
       " ('class', 81),\n",
       " ('new', 79),\n",
       " ('cabin', 74),\n",
       " ('staff', 72),\n",
       " ('experience', 70),\n",
       " ('got', 69),\n",
       " ('could', 68),\n",
       " ('via', 68),\n",
       " ('boarding', 66),\n",
       " ('fly', 66),\n",
       " ('crew', 65),\n",
       " ('customer', 62),\n",
       " ('back', 61),\n",
       " ('well', 60),\n",
       " ('airline', 59),\n",
       " ('like', 59),\n",
       " ('even', 58),\n",
       " ('said', 58),\n",
       " ('airport', 57),\n",
       " ('attendants', 56),\n",
       " ('great', 53),\n",
       " ('hour', 52),\n",
       " ('passengers', 52),\n",
       " ('comfortable', 52),\n",
       " ('way', 50),\n",
       " ('told', 49),\n",
       " ('flying', 49),\n",
       " ('hours', 49),\n",
       " ('also', 49),\n",
       " ('atlanta', 48),\n",
       " ('economy', 47),\n",
       " ('offered', 47),\n",
       " ('nice', 46),\n",
       " ('minutes', 46),\n",
       " ('made', 45),\n",
       " ('dallas', 44),\n",
       " ('friendly', 44),\n",
       " ('two', 43),\n",
       " ('flew', 43),\n",
       " ('excellent', 42),\n",
       " ('trip', 42),\n",
       " ('return', 42),\n",
       " ('another', 42)]"
      ]
     },
     "execution_count": 46,
     "metadata": {},
     "output_type": "execute_result"
    }
   ],
   "source": [
    "positive_review_wordcountsb= Counter(cleaned_positive_review_tokens)\n",
    "positive_review_wordcountsb.most_common(30)\n",
    "# showing the top 50 words"
   ]
  },
  {
   "cell_type": "code",
   "execution_count": 47,
   "metadata": {},
   "outputs": [
    {
     "data": {
      "image/png": "[encoded data removed]",
      "text/plain": [
       "<matplotlib.figure.Figure at 0x167d2630>"
      ]
     },
     "metadata": {},
     "output_type": "display_data"
    },
    {
     "data": {
      "image/png": "[encoded data removed]",
      "text/plain": [
       "<matplotlib.figure.Figure at 0x12ad2c18>"
      ]
     },
     "metadata": {},
     "output_type": "display_data"
    }
   ],
   "source": [
    "text = str(cleaned_positive_review_tokens)\n",
    "\n",
    "# Generate a word cloud image\n",
    "wc = WordCloud(background_color=\"white\", max_words=2000).generate(text)\n",
    "wc.generate(text)\n",
    "\n",
    "# Display the generated image:\n",
    "# the matplotlib way:\n",
    "plt.imshow(wc)\n",
    "plt.axis(\"off\")\n",
    "\n",
    "# take relative word frequencies into account, lower max_font_size\n",
    "#wordcloud = WordCloud(max_font_size=40, relative_scaling=.5).generate(text)\n",
    "plt.figure(figsize=(16,16))\n",
    "plt.imshow(wc)\n",
    "plt.axis(\"off\")\n",
    "plt.savefig(\"data/pos.png\")\n",
    "plt.savefig(\"data/pos.pdf\")\n",
    "# Showing the top words into a word cloud"
   ]
  },
  {
   "cell_type": "markdown",
   "metadata": {},
   "source": [
    "# Pattern"
   ]
  },
  {
   "cell_type": "code",
   "execution_count": 48,
   "metadata": {
    "collapsed": true
   },
   "outputs": [],
   "source": [
    "# remove all urls\n",
    "documents = [re.sub(r\"http\\S+\", '', document) for document in positive_reviewsp] \n",
    "# Remove useless numbers and alphanumerical words\n",
    "documents = [re.sub(\"[^a-zA-Z]+\", \" \", document) for document in documents]\n",
    "# tokenize\n",
    "texts = [document.lower().split() for document in documents]\n",
    "# remove common words \n",
    "stoplist = stopwords.words('english')\n",
    "texts = [[word for word in text if word not in stoplist] for text in texts]\n",
    "#remove short words\n",
    "texts = [[ word for word in tokens if len(word) >= 3 ] for tokens in texts]"
   ]
  },
  {
   "cell_type": "code",
   "execution_count": 49,
   "metadata": {},
   "outputs": [
    {
     "data": {
      "text/plain": [
       "['new',\n",
       " 'level',\n",
       " 'awful',\n",
       " 'curiosity',\n",
       " 'got',\n",
       " 'better',\n",
       " 'could',\n",
       " 'delta',\n",
       " 'bad',\n",
       " 'everyone',\n",
       " 'knew',\n",
       " 'told',\n",
       " 'trusted',\n",
       " 'instinct',\n",
       " 'clapped',\n",
       " 'old',\n",
       " 'clapped',\n",
       " 'cabin',\n",
       " 'design',\n",
       " 'seat',\n",
       " 'fair',\n",
       " 'comfortable',\n",
       " 'get',\n",
       " 'good',\n",
       " 'sleep',\n",
       " 'dinner',\n",
       " 'service',\n",
       " 'happen',\n",
       " 'enough',\n",
       " 'beef',\n",
       " 'cater',\n",
       " 'needs',\n",
       " 'business',\n",
       " 'passengers',\n",
       " 'sat',\n",
       " 'seat',\n",
       " 'surprised',\n",
       " 'learn',\n",
       " 'need',\n",
       " 'sit',\n",
       " 'captains',\n",
       " 'side',\n",
       " 'plane',\n",
       " 'want',\n",
       " 'get',\n",
       " 'choice',\n",
       " 'meal',\n",
       " 'delta',\n",
       " 'crew',\n",
       " 'member']"
      ]
     },
     "execution_count": 49,
     "metadata": {},
     "output_type": "execute_result"
    }
   ],
   "source": [
    "# count words in list\n",
    "cleaned_positive_review_tokensp = [x for y in texts for x in y]\n",
    "cleaned_positive_review_tokensp[:50]"
   ]
  },
  {
   "cell_type": "code",
   "execution_count": 50,
   "metadata": {},
   "outputs": [
    {
     "data": {
      "image/png": "[encoded data removed]",
      "text/plain": [
       "<matplotlib.figure.Figure at 0x167a19e8>"
      ]
     },
     "metadata": {},
     "output_type": "display_data"
    },
    {
     "data": {
      "image/png": "[encoded data removed]",
      "text/plain": [
       "<matplotlib.figure.Figure at 0x168232b0>"
      ]
     },
     "metadata": {},
     "output_type": "display_data"
    }
   ],
   "source": [
    "text = str(cleaned_positive_review_tokens)\n",
    "\n",
    "# Generate a word cloud image\n",
    "wc = WordCloud(background_color=\"white\", max_words=2000).generate(text)\n",
    "wc.generate(text)\n",
    "\n",
    "# Display the generated image:\n",
    "# the matplotlib way:\n",
    "plt.imshow(wc)\n",
    "plt.axis(\"off\")\n",
    "\n",
    "# take relative word frequencies into account, lower max_font_size\n",
    "#wordcloud = WordCloud(max_font_size=40, relative_scaling=.5).generate(text)\n",
    "plt.figure(figsize=(16,16))\n",
    "plt.imshow(wc)\n",
    "plt.axis(\"off\")\n",
    "plt.savefig(\"data/pos.png\")\n",
    "plt.savefig(\"data/pos.pdf\")"
   ]
  },
  {
   "cell_type": "markdown",
   "metadata": {
    "collapsed": true
   },
   "source": [
    "# Resources\n",
    "### http://textblob.readthedocs.io/en/dev/quickstart.html\n",
    "### https://www.clips.uantwerpen.be/pages/pattern-en"
   ]
  },
  {
   "cell_type": "code",
   "execution_count": null,
   "metadata": {
    "collapsed": true
   },
   "outputs": [],
   "source": []
  }
 ],
 "metadata": {
  "kernelspec": {
   "display_name": "Python 2",
   "language": "python",
   "name": "python2"
  },
  "language_info": {
   "codemirror_mode": {
    "name": "ipython",
    "version": 2
   },
   "file_extension": ".py",
   "mimetype": "text/x-python",
   "name": "python",
   "nbconvert_exporter": "python",
   "pygments_lexer": "ipython2",
   "version": "2.7.13"
  }
 },
 "nbformat": 4,
 "nbformat_minor": 2
}
